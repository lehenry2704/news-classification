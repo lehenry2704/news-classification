{
 "cells": [
  {
   "cell_type": "code",
   "execution_count": 1,
   "id": "0a1584bc-3910-4e64-907e-a809ee7de560",
   "metadata": {
    "tags": []
   },
   "outputs": [],
   "source": [
    "import pandas as pd\n",
    "import numpy as np\n",
    "import json\n",
    "from pyvi import ViTokenizer, ViPosTagger \n",
    "from sklearn.feature_extraction.text import TfidfVectorizer\n",
    "from sklearn.model_selection import train_test_split\n",
    "from sklearn.linear_model import LogisticRegression\n",
    "\n",
    "data = pd.read_json('test-Copy1.json', convert_dates = True)"
   ]
  },
  {
   "cell_type": "code",
   "execution_count": 3,
   "id": "1c19b707-d6fc-440e-be2b-3cc4e28703b8",
   "metadata": {
    "collapsed": true,
    "jupyter": {
     "outputs_hidden": true
    },
    "tags": []
   },
   "outputs": [
    {
     "data": {
      "text/html": [
       "<div>\n",
       "<style scoped>\n",
       "    .dataframe tbody tr th:only-of-type {\n",
       "        vertical-align: middle;\n",
       "    }\n",
       "\n",
       "    .dataframe tbody tr th {\n",
       "        vertical-align: top;\n",
       "    }\n",
       "\n",
       "    .dataframe thead th {\n",
       "        text-align: right;\n",
       "    }\n",
       "</style>\n",
       "<table border=\"1\" class=\"dataframe\">\n",
       "  <thead>\n",
       "    <tr style=\"text-align: right;\">\n",
       "      <th></th>\n",
       "      <th>body</th>\n",
       "      <th>breadcrumbs</th>\n",
       "      <th>source</th>\n",
       "      <th>tag</th>\n",
       "      <th>link</th>\n",
       "      <th>sabo</th>\n",
       "      <th>time</th>\n",
       "      <th>heading</th>\n",
       "    </tr>\n",
       "  </thead>\n",
       "  <tbody>\n",
       "    <tr>\n",
       "      <th>0</th>\n",
       "      <td>[Ma túy trên ôtô. Ảnh: Hải quan TP HCM., Vào n...</td>\n",
       "      <td>[Pháp luật, An ninh - Trật tự]</td>\n",
       "      <td>Tiền Phong</td>\n",
       "      <td>[Liu Ming Yang, Jhu Minh Jyun, Ketamine, Máy é...</td>\n",
       "      <td>/vi-sao-lo-500kg-ma-tuy-tu-quang-ninh-lot-vao-...</td>\n",
       "      <td>\\n            Các đối tượng trong đường dây ma...</td>\n",
       "      <td>2019-05-12T19:11:50.000+07:00</td>\n",
       "      <td>Vì sao lô 500kg ma túy từ Quảng Ninh lọt vào t...</td>\n",
       "    </tr>\n",
       "    <tr>\n",
       "      <th>1</th>\n",
       "      <td>[Cách đây hơn một năm, tôi từng kêu gọi Mark Z...</td>\n",
       "      <td>[Thế giới]</td>\n",
       "      <td>Zing</td>\n",
       "      <td>[Mark Zuckerberg, Xả súng, Phân biệt chủng tộc...</td>\n",
       "      <td>/la-that-bai-lon-nhat-cua-facebook-mark-zucker...</td>\n",
       "      <td>\\n            Facebook cần một sự điều hành có...</td>\n",
       "      <td>2019-05-10T06:00:00.000+07:00</td>\n",
       "      <td>Là thất bại lớn nhất của Facebook, Mark Zucker...</td>\n",
       "    </tr>\n",
       "    <tr>\n",
       "      <th>2</th>\n",
       "      <td>[Niềm tin vào giáo dục của người dân đang bị b...</td>\n",
       "      <td>[Giáo dục]</td>\n",
       "      <td>Zing</td>\n",
       "      <td>[Điểm thi, Gian lận, Thí sinh, Thi cử, Kỳ thi,...</td>\n",
       "      <td>/gian-lan-thi-cu-va-ao-vong-con-vua-thi-lai-la...</td>\n",
       "      <td>\\n            Người lớn có trách nhiệm gì và c...</td>\n",
       "      <td>2019-05-10T06:06:00.000+07:00</td>\n",
       "      <td>Gian lận thi cử và ảo vọng 'con vua thì lại là...</td>\n",
       "    </tr>\n",
       "    <tr>\n",
       "      <th>3</th>\n",
       "      <td>[Dinh dưỡng tinh thần cực kỳ quan trọng, Có mặ...</td>\n",
       "      <td>[Giáo dục]</td>\n",
       "      <td>VietnamNet</td>\n",
       "      <td>[Bùi Trân Phượng, Nguyễn Quốc Vương, Cảm quan,...</td>\n",
       "      <td>/con-sinh-ra-tu-do-va-con-duoc-lam-bat-cu-dieu...</td>\n",
       "      <td>\\n            'Tôi vẫn luôn nhớ tôi đã nói với...</td>\n",
       "      <td>2019-05-10T07:03:00.000+07:00</td>\n",
       "      <td>'Con sinh ra tự do và con được làm bất cứ điều...</td>\n",
       "    </tr>\n",
       "    <tr>\n",
       "      <th>4</th>\n",
       "      <td>[1., Khu vườn rộng 180 ha, là tài sản thuộc \"s...</td>\n",
       "      <td>[Văn hóa, Du lịch]</td>\n",
       "      <td>NLĐ</td>\n",
       "      <td>[Vincent van Gogh, Lữ quán, Eguisheim, Quận 14...</td>\n",
       "      <td>/hoc-nguoi-ta-cach-giu-lai-dau-xua/r/30655373.epi</td>\n",
       "      <td>\\n            Cái gì đã vào tranh của Van Gogh...</td>\n",
       "      <td>2019-05-10T05:00:00.000+07:00</td>\n",
       "      <td>Học người ta cách giữ lại dấu xưa</td>\n",
       "    </tr>\n",
       "    <tr>\n",
       "      <th>...</th>\n",
       "      <td>...</td>\n",
       "      <td>...</td>\n",
       "      <td>...</td>\n",
       "      <td>...</td>\n",
       "      <td>...</td>\n",
       "      <td>...</td>\n",
       "      <td>...</td>\n",
       "      <td>...</td>\n",
       "    </tr>\n",
       "    <tr>\n",
       "      <th>26302</th>\n",
       "      <td>[Ngày 10/5, Ủy ban Kiểm tra Tỉnh ủy Quảng Ngãi...</td>\n",
       "      <td>[Pháp luật]</td>\n",
       "      <td>ĐS&amp;PL</td>\n",
       "      <td>[Thi hành kỷ luật, Khiển trách, Tỉnh ủy, Kỳ họ...</td>\n",
       "      <td>/ky-luat-truong-cong-an-huyen-vi-de-cap-duoi-s...</td>\n",
       "      <td>\\n            Trưởng công an huyện Bình Sơn bị...</td>\n",
       "      <td>2019-05-10T22:15:00.000+07:00</td>\n",
       "      <td>Kỷ luật Trưởng Công an huyện vì để cấp dưới sa...</td>\n",
       "    </tr>\n",
       "    <tr>\n",
       "      <th>26303</th>\n",
       "      <td>[ Quán karaoke nơi xảy ra vụ việc , Theo đó, k...</td>\n",
       "      <td>[Pháp luật, Hình sự - Dân sự]</td>\n",
       "      <td>BVPL</td>\n",
       "      <td>[Nguyễn Tư Duy, Vũ Đình Bình, Quán karaoke Tha...</td>\n",
       "      <td>/doi-tuong-dam-tu-vong-nhan-vien-le-tan-trong-...</td>\n",
       "      <td>\\n            Công an huyện Giao Thủy (Nam Địn...</td>\n",
       "      <td>2019-05-10T22:33:00.000+07:00</td>\n",
       "      <td>Đối tượng đâm tử vong nhân viên lễ tân trong q...</td>\n",
       "    </tr>\n",
       "    <tr>\n",
       "      <th>26304</th>\n",
       "      <td>[Tối 10/5, các lực lượng chức năng đang khẩn t...</td>\n",
       "      <td>[Pháp luật, Hình sự - Dân sự]</td>\n",
       "      <td>VTC</td>\n",
       "      <td>[Biển Liên Chiểu, Phường Hòa Hiệp Bắc, Tắm biể...</td>\n",
       "      <td>/tam-bien-o-da-nang-nam-sinh-vien-bi-song-cuon...</td>\n",
       "      <td>\\n            Cùng 2 người bạn ra bãi biển Liê...</td>\n",
       "      <td>2019-05-10T22:34:00.000+07:00</td>\n",
       "      <td>Tắm biển ở Đà Nẵng, nam sinh viên bị sóng cuốn...</td>\n",
       "    </tr>\n",
       "    <tr>\n",
       "      <th>26305</th>\n",
       "      <td>[Mới đây, siêu mẫu Hạ Vy chia sẻ hình ảnh hai ...</td>\n",
       "      <td>[Pháp luật, Hình sự - Dân sự]</td>\n",
       "      <td>VietnamNet</td>\n",
       "      <td>[Hạ Vy, Ford 7, Lạc Trung, Thanh nhàn, Xây xát...</td>\n",
       "      <td>/con-trai-sieu-mau-ha-vy-bi-o-to-tong-chan-don...</td>\n",
       "      <td>\\n            Siêu mẫu Hạ Vy cho biết, hiện co...</td>\n",
       "      <td>2019-05-10T22:24:00.000+07:00</td>\n",
       "      <td>Con trai siêu mẫu Hạ Vy bị ô tô tông chấn động...</td>\n",
       "    </tr>\n",
       "    <tr>\n",
       "      <th>26306</th>\n",
       "      <td>[Ngày 13/5, TAND tỉnh Hòa Bình dự kiến xét xử ...</td>\n",
       "      <td>[Pháp luật]</td>\n",
       "      <td>Zing</td>\n",
       "      <td>[Hoàng Công Lương, Vô ý, Chạy thận nhân tạo, C...</td>\n",
       "      <td>/bo-y-te-de-nghi-xet-xu-khach-quan-vu-an-chay-...</td>\n",
       "      <td>\\n            Bộ Y tế cho rằng lỗi của cựu bác...</td>\n",
       "      <td>2019-05-10T20:45:00.000+07:00</td>\n",
       "      <td>Bộ Y tế đề nghị xét xử khách quan vụ án chạy t...</td>\n",
       "    </tr>\n",
       "  </tbody>\n",
       "</table>\n",
       "<p>26307 rows × 8 columns</p>\n",
       "</div>"
      ],
      "text/plain": [
       "                                                    body  \\\n",
       "0      [Ma túy trên ôtô. Ảnh: Hải quan TP HCM., Vào n...   \n",
       "1      [Cách đây hơn một năm, tôi từng kêu gọi Mark Z...   \n",
       "2      [Niềm tin vào giáo dục của người dân đang bị b...   \n",
       "3      [Dinh dưỡng tinh thần cực kỳ quan trọng, Có mặ...   \n",
       "4      [1., Khu vườn rộng 180 ha, là tài sản thuộc \"s...   \n",
       "...                                                  ...   \n",
       "26302  [Ngày 10/5, Ủy ban Kiểm tra Tỉnh ủy Quảng Ngãi...   \n",
       "26303  [ Quán karaoke nơi xảy ra vụ việc , Theo đó, k...   \n",
       "26304  [Tối 10/5, các lực lượng chức năng đang khẩn t...   \n",
       "26305  [Mới đây, siêu mẫu Hạ Vy chia sẻ hình ảnh hai ...   \n",
       "26306  [Ngày 13/5, TAND tỉnh Hòa Bình dự kiến xét xử ...   \n",
       "\n",
       "                          breadcrumbs      source  \\\n",
       "0      [Pháp luật, An ninh - Trật tự]  Tiền Phong   \n",
       "1                          [Thế giới]        Zing   \n",
       "2                          [Giáo dục]        Zing   \n",
       "3                          [Giáo dục]  VietnamNet   \n",
       "4                  [Văn hóa, Du lịch]         NLĐ   \n",
       "...                               ...         ...   \n",
       "26302                     [Pháp luật]       ĐS&PL   \n",
       "26303   [Pháp luật, Hình sự - Dân sự]        BVPL   \n",
       "26304   [Pháp luật, Hình sự - Dân sự]         VTC   \n",
       "26305   [Pháp luật, Hình sự - Dân sự]  VietnamNet   \n",
       "26306                     [Pháp luật]        Zing   \n",
       "\n",
       "                                                     tag  \\\n",
       "0      [Liu Ming Yang, Jhu Minh Jyun, Ketamine, Máy é...   \n",
       "1      [Mark Zuckerberg, Xả súng, Phân biệt chủng tộc...   \n",
       "2      [Điểm thi, Gian lận, Thí sinh, Thi cử, Kỳ thi,...   \n",
       "3      [Bùi Trân Phượng, Nguyễn Quốc Vương, Cảm quan,...   \n",
       "4      [Vincent van Gogh, Lữ quán, Eguisheim, Quận 14...   \n",
       "...                                                  ...   \n",
       "26302  [Thi hành kỷ luật, Khiển trách, Tỉnh ủy, Kỳ họ...   \n",
       "26303  [Nguyễn Tư Duy, Vũ Đình Bình, Quán karaoke Tha...   \n",
       "26304  [Biển Liên Chiểu, Phường Hòa Hiệp Bắc, Tắm biể...   \n",
       "26305  [Hạ Vy, Ford 7, Lạc Trung, Thanh nhàn, Xây xát...   \n",
       "26306  [Hoàng Công Lương, Vô ý, Chạy thận nhân tạo, C...   \n",
       "\n",
       "                                                    link  \\\n",
       "0      /vi-sao-lo-500kg-ma-tuy-tu-quang-ninh-lot-vao-...   \n",
       "1      /la-that-bai-lon-nhat-cua-facebook-mark-zucker...   \n",
       "2      /gian-lan-thi-cu-va-ao-vong-con-vua-thi-lai-la...   \n",
       "3      /con-sinh-ra-tu-do-va-con-duoc-lam-bat-cu-dieu...   \n",
       "4      /hoc-nguoi-ta-cach-giu-lai-dau-xua/r/30655373.epi   \n",
       "...                                                  ...   \n",
       "26302  /ky-luat-truong-cong-an-huyen-vi-de-cap-duoi-s...   \n",
       "26303  /doi-tuong-dam-tu-vong-nhan-vien-le-tan-trong-...   \n",
       "26304  /tam-bien-o-da-nang-nam-sinh-vien-bi-song-cuon...   \n",
       "26305  /con-trai-sieu-mau-ha-vy-bi-o-to-tong-chan-don...   \n",
       "26306  /bo-y-te-de-nghi-xet-xu-khach-quan-vu-an-chay-...   \n",
       "\n",
       "                                                    sabo  \\\n",
       "0      \\n            Các đối tượng trong đường dây ma...   \n",
       "1      \\n            Facebook cần một sự điều hành có...   \n",
       "2      \\n            Người lớn có trách nhiệm gì và c...   \n",
       "3      \\n            'Tôi vẫn luôn nhớ tôi đã nói với...   \n",
       "4      \\n            Cái gì đã vào tranh của Van Gogh...   \n",
       "...                                                  ...   \n",
       "26302  \\n            Trưởng công an huyện Bình Sơn bị...   \n",
       "26303  \\n            Công an huyện Giao Thủy (Nam Địn...   \n",
       "26304  \\n            Cùng 2 người bạn ra bãi biển Liê...   \n",
       "26305  \\n            Siêu mẫu Hạ Vy cho biết, hiện co...   \n",
       "26306  \\n            Bộ Y tế cho rằng lỗi của cựu bác...   \n",
       "\n",
       "                                time  \\\n",
       "0      2019-05-12T19:11:50.000+07:00   \n",
       "1      2019-05-10T06:00:00.000+07:00   \n",
       "2      2019-05-10T06:06:00.000+07:00   \n",
       "3      2019-05-10T07:03:00.000+07:00   \n",
       "4      2019-05-10T05:00:00.000+07:00   \n",
       "...                              ...   \n",
       "26302  2019-05-10T22:15:00.000+07:00   \n",
       "26303  2019-05-10T22:33:00.000+07:00   \n",
       "26304  2019-05-10T22:34:00.000+07:00   \n",
       "26305  2019-05-10T22:24:00.000+07:00   \n",
       "26306  2019-05-10T20:45:00.000+07:00   \n",
       "\n",
       "                                                 heading  \n",
       "0      Vì sao lô 500kg ma túy từ Quảng Ninh lọt vào t...  \n",
       "1      Là thất bại lớn nhất của Facebook, Mark Zucker...  \n",
       "2      Gian lận thi cử và ảo vọng 'con vua thì lại là...  \n",
       "3      'Con sinh ra tự do và con được làm bất cứ điều...  \n",
       "4                      Học người ta cách giữ lại dấu xưa  \n",
       "...                                                  ...  \n",
       "26302  Kỷ luật Trưởng Công an huyện vì để cấp dưới sa...  \n",
       "26303  Đối tượng đâm tử vong nhân viên lễ tân trong q...  \n",
       "26304  Tắm biển ở Đà Nẵng, nam sinh viên bị sóng cuốn...  \n",
       "26305  Con trai siêu mẫu Hạ Vy bị ô tô tông chấn động...  \n",
       "26306  Bộ Y tế đề nghị xét xử khách quan vụ án chạy t...  \n",
       "\n",
       "[26307 rows x 8 columns]"
      ]
     },
     "execution_count": 3,
     "metadata": {},
     "output_type": "execute_result"
    }
   ],
   "source": [
    "data"
   ]
  },
  {
   "cell_type": "code",
   "execution_count": 5,
   "id": "a0228491-eab1-4730-bcc9-b6011a6f2d8b",
   "metadata": {},
   "outputs": [
    {
     "data": {
      "text/plain": [
       "Index(['Giải trí', 'Đời sống', 'Công nghệ ', 'Nhà đất', 'Pháp luật', 'Xe cộ',\n",
       "       'Khoa học'],\n",
       "      dtype='object')"
      ]
     },
     "execution_count": 5,
     "metadata": {},
     "output_type": "execute_result"
    }
   ],
   "source": [
    "#only use 1 trait for each breadcrumbs\n",
    "breadcrumbs_simplify = []\n",
    "for i in data.breadcrumbs:\n",
    "    breadcrumbs_simplify.append(i[0])\n",
    "s = pd.Series(breadcrumbs_simplify)\n",
    "#include all of the different breadcrumbs\n",
    "list_of_breadcrumbs = s.value_counts()\n",
    "list_of_breadcrumbs.index[:7]"
   ]
  },
  {
   "cell_type": "code",
   "execution_count": 6,
   "id": "2d37fa67-e9ac-473f-880a-0636a4f9ca8d",
   "metadata": {
    "collapsed": true,
    "jupyter": {
     "outputs_hidden": true
    },
    "tags": []
   },
   "outputs": [
    {
     "data": {
      "text/plain": [
       "['Cách đây hơn một năm, tôi từng kêu gọi Mark Zuckerberg, Chủ tịch Hội đồng Quản trị kiêm CEO của Facebook, nên từ chức hoặc bị sa thải.',\n",
       " 'Dù Facebook đã hứng chịu rất nhiều chỉ trích, nhiều người vào thời điểm đó vẫn cho rằng đòi hỏi Zuckerberg từ chức là khắt khe. Ông chủ Facebook vẫn được tin tưởng sẽ có thể đưa ra những giải pháp đúng đắn để giải quyết triệt để mọi vấn đề.',\n",
       " 'Một năm trôi qua với biết bao thay đổi. Giờ đây mọi chuyện trở nên sáng tỏ hơn với nhiều người trên toàn thế giới.',\n",
       " 'Thất bại lớn nhất của Facebook',\n",
       " 'Sở hữu hơn 58% cổ phiếu có quyền biểu quyết, Zuckerberg nắm giữ những vị trí trọng yếu nhất và thâu tóm hết quyền lực vào tay. Ông chủ Facebook ở trong vị thế không thể bị khuất phục, có thể phủi tay trước mọi trách nhiệm mặc cho đòi hỏi càng cao từ phía cổ đông, các nhóm hoạt động nhân quyền, nhà chức trách cũng như người dùng Facebook toàn cầu trong việc giải quyết tận gốc những vấn đề mạng xã hội này gây ra đối với toàn xã hội.',\n",
       " 'Bản thân tôi không nắm giữ bất kỳ cổ phần nào của Facebook. Chúng tôi luôn tin rằng Mark Zuckerberg thiếu phẩm chất lãnh đạo cần thiết để chèo chống và chịu trách nhiệm cho một nền tảng truyền thông toàn cầu với 2,8 tỷ người dùng toàn cầu như Facebook.',\n",
       " 'Thất bại lớn nhất của Facebook chính là ông chủ của mình và đã đến lúc Zuckerberg thoái lui.',\n",
       " 'Facebook rơi vào khủng hoảng này đến khủng hoảng khác, và đó là hậu quả từ cách điều hành của Zuckerberg. Liên tục đưa tin về những thất bại lẫn bê bối của Facebook, báo chí, truyền thông giờ đây ngày càng tìm được đồng thuận: Thất bại lớn nhất của Facebook chính là ông chủ của mình và đã đến lúc Zuckerberg thoái lui.',\n",
       " 'Câu chuyện đó là hợp lý khi Zuckerberg quá rõ ràng đã thất bại trong việc đối mặt với các rủi ro tài chính, pháp lý, quy định, và uy tín. Các nhà đầu tư bị che mắt về những cuộc tranh cãi liên tiếp. Điều này đã gây tổn hại nghiêm trọng giá trị của cổ đông, làm giảm khả năng giám sát hoạt động công ty, và đe dọa sự lành mạnh của xã hội.',\n",
       " 'Nhiều nhà đầu tư bày tỏ sự bất hợp tác của mình. Năm 2018, hơn một phần ba (35%) cổ đông phổ thông không ủng hộ để Mark Zuckerberg tiếp tục làm Chủ tịch Hội đồng quản trị.',\n",
       " 'Khi những yếu kém và sự bất lực của Zuckerberg thu hút sự chú ý từ truyền thông, làm dấy lên nghi ngờ từ nhà các nhà quản lý đi kèm với yêu cầu nộp phạt từ các cơ quan luật pháp, ông chủ Facebook trở thành gánh nặng của chính công ty mình.',\n",
       " 'Vô cảm với nhóm yếu thế',\n",
       " 'Dưới sự điều hành của Zuckerberg, Facebook đã và đang phải đối mặt với hàng loạt các cuộc điều tra và kiện tụng liên quan đến quyền riêng tư của người dùng hay mất mát dữ liệu.',\n",
       " 'Mới đây Ủy ban Thương mại Liên bang Mỹ cho biết nền tảng mạng xã hội này sẽ phải đối mặt với khoản tiền phạt kỷ lục lên đến 5 tỷ USD. Tuy vậy, nhiều Thượng nghị sĩ cho rằng khoản phạt này vẫn còn nhẹ và yêu cầu các cơ quan quản lý, ngoài pháp nhân Facebook, nên cáo buộc Zuckerberg là “cá nhân có lỗi và phải chịu trách nhiệm” cho những vi phạm liên tiếp, phải chịu đồng thời “hình phạt và nộp phạt”.',\n",
       " 'Một trong số các vi phạm của Zuckerberg hiện nay là cách tiếp cận vô cảm trong vấn đề bảo vệ nhóm yếu thế và cộng đồng bị lãng quên. Gần 10 năm qua, rất nhiều tổ chức đã vận động, yêu cầu Facebook có hành động rõ ràng và cụ thể. Tuy vậy, ông chủ Facebook lại chẳng có động tĩnh gì để ngăn chặn những phát ngôn thù địch hay chủ nghĩa da trắng thượng đẳng trên nền tảng mạng xã hội của mình.',\n",
       " 'Một trong số các vi phạm của Zuckerberg hiện nay là cách tiếp cận vô cảm trong vấn đề bảo vệ nhóm yếu thế và cộng đồng bị lãng quên.',\n",
       " 'Chẳng hạn, năm 2016, Facebook không thèm đoái hoài đến những khuyến nghị để ngăn chặn quảng cáo phân biệt chủng tộc tại Mỹ. Các nhà khoa học, trong nghiên cứu công bố hồi tháng 4 vừa rồi, chỉ ra rằng dù người chạy quảng cáo có hướng tới đối tượng khách hàng nào đi chăng nữa thì hệ thống quảng cáo Facebook cũng tự động phân biệt chủng tộc và phân biệt giới tính.',\n",
       " 'Hiện nay, nền tảng này phải đối mặt với hàng loạt các vụ kiện tụng, đồng thời phải dàn xếp các khoản bồi thường vì để xuất hiện những quảng cáo phân biệt chủng tộc.',\n",
       " 'Và nếu không phải vì vụ xả súng đẫm máu ở New Zealand làm 50 người thiệt mạng do một kẻ sùng bái chủ nghĩa da trắng thực hiện hồi tháng 3 vừa rồi, Facebook có lẽ sẽ vẫn chẳng có động thái quyết liệt nào để ngăn chặn nạn phân biệt chủng tộc.',\n",
       " 'Cần phải nói thêm, trong vụ xả súng ở New Zealand, kẻ thủ ác đã sử dụng Facebook để livestream và sử dụng mạng xã hội này như một công cụ để tuyên truyền sự hận thù. Đáng buồn là clip xả súng được lan truyền với tốc độ chóng mặt và tồn tại nhiều ngày sau đó mặc cho chính sách cấm các hình ảnh bạo lực và phát ngôn thù hận xuất hiện trên Facebook.',\n",
       " 'Cứ sai rồi xin lỗi',\n",
       " 'Năm 2018, một liên minh bao gồm 78 nhóm hoạt động vì quyền xã hội, các công ty đầu tư có tầm ảnh hưởng, các nhà đầu tư, và tổ chức Open MIC của tôi bày tỏ lo ngại rằng Facebook đã không giữ vững trách nhiệm thực hiện đánh giá ảnh hưởng nhân quyền trong hoạt động kinh doanh được, theo quy ước của Liên Hợp Quốc. Vụ việc cổ súy thù địch đối với người Rohingya ở Myanmar là ví dụ điển hình.',\n",
       " 'Báo cáo mới đây về nhân quyền của Liên Hợp Quốc nhấn mạnh: “Facebook là một công cụ đắc lực để lan truyền tư tưởng thù địch. Phản hồi từ phía Facebook về vấn đề này rất chậm và không hề hiệu quả. Đồng thời, Facebook cũng không thể cung cấp dữ liệu cụ thể theo quốc gia để đánh giá về sự lan truyền của ngôn từ thù địch, kích động trên nền tảng”.',\n",
       " 'Một điều tra viên của Liên Hợp Quốc miêu tả hành động của Facebook là “bị động” và “tối giản”, đồng thời cho rằng Facebook thay vì ngăn chặn mối nguy từ đầu thì chọn cách để sự việc xảy ra rồi mới xin lỗi.',\n",
       " 'Facebook cần một sự điều hành có tầm nhìn, độc lập, minh bạch và có trách nhiệm trong dài hạn. Công ty cần một lãnh đạo tối cao mới.',\n",
       " 'Trên mục Xã luận của báo ',\n",
       " 'New York Times',\n",
       " ', rất nhiều chuyên gia cho rằng việc dung túng cho nội dung xấu là chủ trương kinh doanh của Facebook. Doanh thu chủ yếu của nền tảng này đến từ quảng cáo và những nội dung nào hút càng nhiều lượt người tương tác hay chia sẻ thì sẽ càng được ưu tiên.',\n",
       " 'Tháng 4 vừa rồi, phát ngôn viên Ruchika Budhraja của Facebook chia sẻ với tạp chí Mother Jones rằng “hệ quả trong dài hạn của những nội dung thù địch là giảm lợi nhuận”. Trong khi đó, cuộc sống của chúng ta đang bị đe dọa.',\n",
       " 'Zuckerberg đều xin lỗi sau mỗi vụ bê bối. Không một lời xin lỗi nào đáng tin.',\n",
       " 'Trách nhiệm của Facebook vẫn còn đó. Nếu muốn tiếp tục là nền tảng mạng xã hội có ảnh hưởng đến hàng tỷ người trên thế giới, Facebook cần một sự điều hành có tầm nhìn, độc lập, minh bạch và có trách nhiệm trong dài hạn. Công ty cần một lãnh đạo tối cao mới.',\n",
       " 'Đáng buồn thay, chúng ta không thể trông chờ những điều này từ Mark Zuckerberg.',\n",
       " 'Michael Connor',\n",
       " 'Biên dịch: Nguyễn Bình Illustration: Nhân Lê']"
      ]
     },
     "execution_count": 6,
     "metadata": {},
     "output_type": "execute_result"
    }
   ],
   "source": [
    "#put body into a list\n",
    "body_preprocessing = []\n",
    "for i in data.body:\n",
    "    body_preprocessing.append(i)\n",
    "body_preprocessing[1]"
   ]
  },
  {
   "cell_type": "code",
   "execution_count": 8,
   "id": "d180b852-2903-4eed-b971-4b1917767456",
   "metadata": {
    "collapsed": true,
    "jupyter": {
     "outputs_hidden": true
    },
    "tags": []
   },
   "outputs": [
    {
     "data": {
      "text/plain": [
       "'cách đây hơn một năm, tôi từng kêu gọi mark zuckerberg, chủ tịch hội đồng quản trị kiêm ceo của facebook, nên từ chức hoặc bị sa thải. dù facebook đã hứng chịu rất nhiều chỉ trích, nhiều người vào thời điểm đó vẫn cho rằng đòi hỏi zuckerberg từ chức là khắt khe. ông chủ facebook vẫn được tin tưởng sẽ có thể đưa ra những giải pháp đúng đắn để giải quyết triệt để mọi vấn đề. một năm trôi qua với biết bao thay đổi. giờ đây mọi chuyện trở nên sáng tỏ hơn với nhiều người trên toàn thế giới. thất bại lớn nhất của facebook sở hữu hơn 58% cổ phiếu có quyền biểu quyết, zuckerberg nắm giữ những vị trí trọng yếu nhất và thâu tóm hết quyền lực vào tay. ông chủ facebook ở trong vị thế không thể bị khuất phục, có thể phủi tay trước mọi trách nhiệm mặc cho đòi hỏi càng cao từ phía cổ đông, các nhóm hoạt động nhân quyền, nhà chức trách cũng như người dùng facebook toàn cầu trong việc giải quyết tận gốc những vấn đề mạng xã hội này gây ra đối với toàn xã hội. bản thân tôi không nắm giữ bất kỳ cổ phần nào của facebook. chúng tôi luôn tin rằng mark zuckerberg thiếu phẩm chất lãnh đạo cần thiết để chèo chống và chịu trách nhiệm cho một nền tảng truyền thông toàn cầu với 2,8 tỷ người dùng toàn cầu như facebook. thất bại lớn nhất của facebook chính là ông chủ của mình và đã đến lúc zuckerberg thoái lui. facebook rơi vào khủng hoảng này đến khủng hoảng khác, và đó là hậu quả từ cách điều hành của zuckerberg. liên tục đưa tin về những thất bại lẫn bê bối của facebook, báo chí, truyền thông giờ đây ngày càng tìm được đồng thuận: thất bại lớn nhất của facebook chính là ông chủ của mình và đã đến lúc zuckerberg thoái lui. câu chuyện đó là hợp lý khi zuckerberg quá rõ ràng đã thất bại trong việc đối mặt với các rủi ro tài chính, pháp lý, quy định, và uy tín. các nhà đầu tư bị che mắt về những cuộc tranh cãi liên tiếp. điều này đã gây tổn hại nghiêm trọng giá trị của cổ đông, làm giảm khả năng giám sát hoạt động công ty, và đe dọa sự lành mạnh của xã hội. nhiều nhà đầu tư bày tỏ sự bất hợp tác của mình. năm 2018, hơn một phần ba (35%) cổ đông phổ thông không ủng hộ để mark zuckerberg tiếp tục làm chủ tịch hội đồng quản trị. khi những yếu kém và sự bất lực của zuckerberg thu hút sự chú ý từ truyền thông, làm dấy lên nghi ngờ từ nhà các nhà quản lý đi kèm với yêu cầu nộp phạt từ các cơ quan luật pháp, ông chủ facebook trở thành gánh nặng của chính công ty mình. vô cảm với nhóm yếu thế dưới sự điều hành của zuckerberg, facebook đã và đang phải đối mặt với hàng loạt các cuộc điều tra và kiện tụng liên quan đến quyền riêng tư của người dùng hay mất mát dữ liệu. mới đây ủy ban thương mại liên bang mỹ cho biết nền tảng mạng xã hội này sẽ phải đối mặt với khoản tiền phạt kỷ lục lên đến 5 tỷ usd. tuy vậy, nhiều thượng nghị sĩ cho rằng khoản phạt này vẫn còn nhẹ và yêu cầu các cơ quan quản lý, ngoài pháp nhân facebook, nên cáo buộc zuckerberg là “cá nhân có lỗi và phải chịu trách nhiệm” cho những vi phạm liên tiếp, phải chịu đồng thời “hình phạt và nộp phạt”. một trong số các vi phạm của zuckerberg hiện nay là cách tiếp cận vô cảm trong vấn đề bảo vệ nhóm yếu thế và cộng đồng bị lãng quên. gần 10 năm qua, rất nhiều tổ chức đã vận động, yêu cầu facebook có hành động rõ ràng và cụ thể. tuy vậy, ông chủ facebook lại chẳng có động tĩnh gì để ngăn chặn những phát ngôn thù địch hay chủ nghĩa da trắng thượng đẳng trên nền tảng mạng xã hội của mình. một trong số các vi phạm của zuckerberg hiện nay là cách tiếp cận vô cảm trong vấn đề bảo vệ nhóm yếu thế và cộng đồng bị lãng quên. chẳng hạn, năm 2016, facebook không thèm đoái hoài đến những khuyến nghị để ngăn chặn quảng cáo phân biệt chủng tộc tại mỹ. các nhà khoa học, trong nghiên cứu công bố hồi tháng 4 vừa rồi, chỉ ra rằng dù người chạy quảng cáo có hướng tới đối tượng khách hàng nào đi chăng nữa thì hệ thống quảng cáo facebook cũng tự động phân biệt chủng tộc và phân biệt giới tính. hiện nay, nền tảng này phải đối mặt với hàng loạt các vụ kiện tụng, đồng thời phải dàn xếp các khoản bồi thường vì để xuất hiện những quảng cáo phân biệt chủng tộc. và nếu không phải vì vụ xả súng đẫm máu ở new zealand làm 50 người thiệt mạng do một kẻ sùng bái chủ nghĩa da trắng thực hiện hồi tháng 3 vừa rồi, facebook có lẽ sẽ vẫn chẳng có động thái quyết liệt nào để ngăn chặn nạn phân biệt chủng tộc. cần phải nói thêm, trong vụ xả súng ở new zealand, kẻ thủ ác đã sử dụng facebook để livestream và sử dụng mạng xã hội này như một công cụ để tuyên truyền sự hận thù. đáng buồn là clip xả súng được lan truyền với tốc độ chóng mặt và tồn tại nhiều ngày sau đó mặc cho chính sách cấm các hình ảnh bạo lực và phát ngôn thù hận xuất hiện trên facebook. cứ sai rồi xin lỗi năm 2018, một liên minh bao gồm 78 nhóm hoạt động vì quyền xã hội, các công ty đầu tư có tầm ảnh hưởng, các nhà đầu tư, và tổ chức open mic của tôi bày tỏ lo ngại rằng facebook đã không giữ vững trách nhiệm thực hiện đánh giá ảnh hưởng nhân quyền trong hoạt động kinh doanh được, theo quy ước của liên hợp quốc. vụ việc cổ súy thù địch đối với người rohingya ở myanmar là ví dụ điển hình. báo cáo mới đây về nhân quyền của liên hợp quốc nhấn mạnh: “facebook là một công cụ đắc lực để lan truyền tư tưởng thù địch. phản hồi từ phía facebook về vấn đề này rất chậm và không hề hiệu quả. đồng thời, facebook cũng không thể cung cấp dữ liệu cụ thể theo quốc gia để đánh giá về sự lan truyền của ngôn từ thù địch, kích động trên nền tảng”. một điều tra viên của liên hợp quốc miêu tả hành động của facebook là “bị động” và “tối giản”, đồng thời cho rằng facebook thay vì ngăn chặn mối nguy từ đầu thì chọn cách để sự việc xảy ra rồi mới xin lỗi. facebook cần một sự điều hành có tầm nhìn, độc lập, minh bạch và có trách nhiệm trong dài hạn. công ty cần một lãnh đạo tối cao mới. trên mục xã luận của báo  new york times , rất nhiều chuyên gia cho rằng việc dung túng cho nội dung xấu là chủ trương kinh doanh của facebook. doanh thu chủ yếu của nền tảng này đến từ quảng cáo và những nội dung nào hút càng nhiều lượt người tương tác hay chia sẻ thì sẽ càng được ưu tiên. tháng 4 vừa rồi, phát ngôn viên ruchika budhraja của facebook chia sẻ với tạp chí mother jones rằng “hệ quả trong dài hạn của những nội dung thù địch là giảm lợi nhuận”. trong khi đó, cuộc sống của chúng ta đang bị đe dọa. zuckerberg đều xin lỗi sau mỗi vụ bê bối. không một lời xin lỗi nào đáng tin. trách nhiệm của facebook vẫn còn đó. nếu muốn tiếp tục là nền tảng mạng xã hội có ảnh hưởng đến hàng tỷ người trên thế giới, facebook cần một sự điều hành có tầm nhìn, độc lập, minh bạch và có trách nhiệm trong dài hạn. công ty cần một lãnh đạo tối cao mới. đáng buồn thay, chúng ta không thể trông chờ những điều này từ mark zuckerberg. michael connor biên dịch: nguyễn bình illustration: nhân lê'"
      ]
     },
     "execution_count": 8,
     "metadata": {},
     "output_type": "execute_result"
    }
   ],
   "source": [
    "#remove '\\n' where applicable and lowercase all of the body-strings\n",
    "body_postprocessing =  ['' for i in range(len(body_preprocessing))]\n",
    "\n",
    "for i in range(len(body_preprocessing)):\n",
    "    for j in body_preprocessing[i]:\n",
    "        fst_trans = j.lower()\n",
    "        snd_trans = fst_trans.replace('\\n', ' ')\n",
    "        if j == body_preprocessing[i][0]:\n",
    "            body_postprocessing[i] += snd_trans\n",
    "        else:\n",
    "            body_postprocessing[i] += ' ' + snd_trans\n",
    "body_postprocessing[1]"
   ]
  },
  {
   "cell_type": "code",
   "execution_count": 11,
   "id": "c801d147-2706-47f7-85ea-ddc7e9916a12",
   "metadata": {},
   "outputs": [
    {
     "data": {
      "text/plain": [
       "6808"
      ]
     },
     "execution_count": 11,
     "metadata": {},
     "output_type": "execute_result"
    }
   ],
   "source": [
    "len(body_postprocessing[2])"
   ]
  },
  {
   "cell_type": "code",
   "execution_count": 12,
   "id": "8de083d4-17b1-4390-9b15-856fe61c27db",
   "metadata": {
    "tags": []
   },
   "outputs": [],
   "source": [
    "X_pre_processing = []\n",
    "y = []\n",
    "l = 0\n",
    "for i in data.breadcrumbs:\n",
    "    if len(body_postprocessing[l]) > 40:\n",
    "        X_pre_processing.append(body_postprocessing[l])\n",
    "        y.append(i[0])\n",
    "    l += 1"
   ]
  },
  {
   "cell_type": "code",
   "execution_count": 13,
   "id": "cc3ec55a-2190-428b-90f2-52ba2ca35226",
   "metadata": {
    "collapsed": true,
    "jupyter": {
     "outputs_hidden": true
    },
    "tags": []
   },
   "outputs": [
    {
     "data": {
      "text/plain": [
       "'cách đây hơn một năm, tôi từng kêu gọi mark zuckerberg, chủ tịch hội đồng quản trị kiêm ceo của facebook, nên từ chức hoặc bị sa thải. dù facebook đã hứng chịu rất nhiều chỉ trích, nhiều người vào thời điểm đó vẫn cho rằng đòi hỏi zuckerberg từ chức là khắt khe. ông chủ facebook vẫn được tin tưởng sẽ có thể đưa ra những giải pháp đúng đắn để giải quyết triệt để mọi vấn đề. một năm trôi qua với biết bao thay đổi. giờ đây mọi chuyện trở nên sáng tỏ hơn với nhiều người trên toàn thế giới. thất bại lớn nhất của facebook sở hữu hơn 58% cổ phiếu có quyền biểu quyết, zuckerberg nắm giữ những vị trí trọng yếu nhất và thâu tóm hết quyền lực vào tay. ông chủ facebook ở trong vị thế không thể bị khuất phục, có thể phủi tay trước mọi trách nhiệm mặc cho đòi hỏi càng cao từ phía cổ đông, các nhóm hoạt động nhân quyền, nhà chức trách cũng như người dùng facebook toàn cầu trong việc giải quyết tận gốc những vấn đề mạng xã hội này gây ra đối với toàn xã hội. bản thân tôi không nắm giữ bất kỳ cổ phần nào của facebook. chúng tôi luôn tin rằng mark zuckerberg thiếu phẩm chất lãnh đạo cần thiết để chèo chống và chịu trách nhiệm cho một nền tảng truyền thông toàn cầu với 2,8 tỷ người dùng toàn cầu như facebook. thất bại lớn nhất của facebook chính là ông chủ của mình và đã đến lúc zuckerberg thoái lui. facebook rơi vào khủng hoảng này đến khủng hoảng khác, và đó là hậu quả từ cách điều hành của zuckerberg. liên tục đưa tin về những thất bại lẫn bê bối của facebook, báo chí, truyền thông giờ đây ngày càng tìm được đồng thuận: thất bại lớn nhất của facebook chính là ông chủ của mình và đã đến lúc zuckerberg thoái lui. câu chuyện đó là hợp lý khi zuckerberg quá rõ ràng đã thất bại trong việc đối mặt với các rủi ro tài chính, pháp lý, quy định, và uy tín. các nhà đầu tư bị che mắt về những cuộc tranh cãi liên tiếp. điều này đã gây tổn hại nghiêm trọng giá trị của cổ đông, làm giảm khả năng giám sát hoạt động công ty, và đe dọa sự lành mạnh của xã hội. nhiều nhà đầu tư bày tỏ sự bất hợp tác của mình. năm 2018, hơn một phần ba (35%) cổ đông phổ thông không ủng hộ để mark zuckerberg tiếp tục làm chủ tịch hội đồng quản trị. khi những yếu kém và sự bất lực của zuckerberg thu hút sự chú ý từ truyền thông, làm dấy lên nghi ngờ từ nhà các nhà quản lý đi kèm với yêu cầu nộp phạt từ các cơ quan luật pháp, ông chủ facebook trở thành gánh nặng của chính công ty mình. vô cảm với nhóm yếu thế dưới sự điều hành của zuckerberg, facebook đã và đang phải đối mặt với hàng loạt các cuộc điều tra và kiện tụng liên quan đến quyền riêng tư của người dùng hay mất mát dữ liệu. mới đây ủy ban thương mại liên bang mỹ cho biết nền tảng mạng xã hội này sẽ phải đối mặt với khoản tiền phạt kỷ lục lên đến 5 tỷ usd. tuy vậy, nhiều thượng nghị sĩ cho rằng khoản phạt này vẫn còn nhẹ và yêu cầu các cơ quan quản lý, ngoài pháp nhân facebook, nên cáo buộc zuckerberg là “cá nhân có lỗi và phải chịu trách nhiệm” cho những vi phạm liên tiếp, phải chịu đồng thời “hình phạt và nộp phạt”. một trong số các vi phạm của zuckerberg hiện nay là cách tiếp cận vô cảm trong vấn đề bảo vệ nhóm yếu thế và cộng đồng bị lãng quên. gần 10 năm qua, rất nhiều tổ chức đã vận động, yêu cầu facebook có hành động rõ ràng và cụ thể. tuy vậy, ông chủ facebook lại chẳng có động tĩnh gì để ngăn chặn những phát ngôn thù địch hay chủ nghĩa da trắng thượng đẳng trên nền tảng mạng xã hội của mình. một trong số các vi phạm của zuckerberg hiện nay là cách tiếp cận vô cảm trong vấn đề bảo vệ nhóm yếu thế và cộng đồng bị lãng quên. chẳng hạn, năm 2016, facebook không thèm đoái hoài đến những khuyến nghị để ngăn chặn quảng cáo phân biệt chủng tộc tại mỹ. các nhà khoa học, trong nghiên cứu công bố hồi tháng 4 vừa rồi, chỉ ra rằng dù người chạy quảng cáo có hướng tới đối tượng khách hàng nào đi chăng nữa thì hệ thống quảng cáo facebook cũng tự động phân biệt chủng tộc và phân biệt giới tính. hiện nay, nền tảng này phải đối mặt với hàng loạt các vụ kiện tụng, đồng thời phải dàn xếp các khoản bồi thường vì để xuất hiện những quảng cáo phân biệt chủng tộc. và nếu không phải vì vụ xả súng đẫm máu ở new zealand làm 50 người thiệt mạng do một kẻ sùng bái chủ nghĩa da trắng thực hiện hồi tháng 3 vừa rồi, facebook có lẽ sẽ vẫn chẳng có động thái quyết liệt nào để ngăn chặn nạn phân biệt chủng tộc. cần phải nói thêm, trong vụ xả súng ở new zealand, kẻ thủ ác đã sử dụng facebook để livestream và sử dụng mạng xã hội này như một công cụ để tuyên truyền sự hận thù. đáng buồn là clip xả súng được lan truyền với tốc độ chóng mặt và tồn tại nhiều ngày sau đó mặc cho chính sách cấm các hình ảnh bạo lực và phát ngôn thù hận xuất hiện trên facebook. cứ sai rồi xin lỗi năm 2018, một liên minh bao gồm 78 nhóm hoạt động vì quyền xã hội, các công ty đầu tư có tầm ảnh hưởng, các nhà đầu tư, và tổ chức open mic của tôi bày tỏ lo ngại rằng facebook đã không giữ vững trách nhiệm thực hiện đánh giá ảnh hưởng nhân quyền trong hoạt động kinh doanh được, theo quy ước của liên hợp quốc. vụ việc cổ súy thù địch đối với người rohingya ở myanmar là ví dụ điển hình. báo cáo mới đây về nhân quyền của liên hợp quốc nhấn mạnh: “facebook là một công cụ đắc lực để lan truyền tư tưởng thù địch. phản hồi từ phía facebook về vấn đề này rất chậm và không hề hiệu quả. đồng thời, facebook cũng không thể cung cấp dữ liệu cụ thể theo quốc gia để đánh giá về sự lan truyền của ngôn từ thù địch, kích động trên nền tảng”. một điều tra viên của liên hợp quốc miêu tả hành động của facebook là “bị động” và “tối giản”, đồng thời cho rằng facebook thay vì ngăn chặn mối nguy từ đầu thì chọn cách để sự việc xảy ra rồi mới xin lỗi. facebook cần một sự điều hành có tầm nhìn, độc lập, minh bạch và có trách nhiệm trong dài hạn. công ty cần một lãnh đạo tối cao mới. trên mục xã luận của báo  new york times , rất nhiều chuyên gia cho rằng việc dung túng cho nội dung xấu là chủ trương kinh doanh của facebook. doanh thu chủ yếu của nền tảng này đến từ quảng cáo và những nội dung nào hút càng nhiều lượt người tương tác hay chia sẻ thì sẽ càng được ưu tiên. tháng 4 vừa rồi, phát ngôn viên ruchika budhraja của facebook chia sẻ với tạp chí mother jones rằng “hệ quả trong dài hạn của những nội dung thù địch là giảm lợi nhuận”. trong khi đó, cuộc sống của chúng ta đang bị đe dọa. zuckerberg đều xin lỗi sau mỗi vụ bê bối. không một lời xin lỗi nào đáng tin. trách nhiệm của facebook vẫn còn đó. nếu muốn tiếp tục là nền tảng mạng xã hội có ảnh hưởng đến hàng tỷ người trên thế giới, facebook cần một sự điều hành có tầm nhìn, độc lập, minh bạch và có trách nhiệm trong dài hạn. công ty cần một lãnh đạo tối cao mới. đáng buồn thay, chúng ta không thể trông chờ những điều này từ mark zuckerberg. michael connor biên dịch: nguyễn bình illustration: nhân lê'"
      ]
     },
     "execution_count": 13,
     "metadata": {},
     "output_type": "execute_result"
    }
   ],
   "source": [
    "X_pre_processing[1]"
   ]
  },
  {
   "cell_type": "code",
   "execution_count": 14,
   "id": "f6ba96b7-0f4b-4bee-8e96-b33261a17ffd",
   "metadata": {},
   "outputs": [
    {
     "data": {
      "text/plain": [
       "24614"
      ]
     },
     "execution_count": 14,
     "metadata": {},
     "output_type": "execute_result"
    }
   ],
   "source": [
    "len(X_pre_processing)"
   ]
  },
  {
   "cell_type": "code",
   "execution_count": 15,
   "id": "73e983ac-3915-4d67-a861-f66c11fbd0e6",
   "metadata": {
    "tags": []
   },
   "outputs": [],
   "source": [
    "#group words that go together (groups of 2 or more)\n",
    "X_post_processing = []\n",
    "for i in X_pre_processing:\n",
    "    X_post_processing.append(ViTokenizer.tokenize(i))"
   ]
  },
  {
   "cell_type": "code",
   "execution_count": 16,
   "id": "952ce716-b069-43c6-9adf-7f11e34306f0",
   "metadata": {
    "tags": []
   },
   "outputs": [
    {
     "data": {
      "text/plain": [
       "'nhiều du_khách tại hội an ( quảng_nam ) bày_tỏ sự bất_ngờ khi phát_hiện xung_quanh mặt_trời có vòng ánh_sáng rực_rỡ . được biết , hiện_tượng hiếm thấy này kéo_dài nhiều tiếng đồng_hồ và kết_thúc lúc 13h30 . thời_tiết ở hội an khoảng 31 độ c , trời trong xanh và ít mây nên hiện_tượng này khá dễ quan_sát . nhiều du_khách đã tranh_thủ chụp ảnh , quay lại khoảnh_khắc đáng nhớ . hào_quang mặt_trời xuất_hiện ở hội an khiến du_khách bất_ngờ . ảnh : hương thảo . hương thảo ( hà_nội ) đã không giấu nổi sự bất_ngờ khi nhìn thấy hào_quang : \" mình cảm_thấy rất kỳ_diệu vì chưa bao_giờ được nhìn thấy cảnh_tượng này . người dân và du_khách ở đây cũng cảm_thấy rất lạ . họ còn chụp ảnh để ghi lại khoảnh_khắc ấy ngay lập_tức \" . trên mạng xã_hội , nhiều du_khách nước_ngoài cũng tỏ ra bất_ngờ khi chia_sẻ hình_ảnh về hiện_tượng này tại hội an . du_khách nước_ngoài ghi lại cảnh_tượng hiếm thấy ở hội an và chia_sẻ lên mạng xã_hội . ảnh chụp màn_hình . một du_khách nước_ngoài khác thể_hiện sự thích_thú trên trang cá_nhân của mình . ảnh chụp màn_hình . trước đó , hào_quang quanh mặt_trời cũng thường xuất_hiện nhiều lần ở tp huế và đất quảng . quầng hào_quang là những vòng ánh_sáng bao quanh mặt_trời hoặc mặt_trăng . chúng thường xuất_hiện khi có một lớp mây ti mỏng trên bầu_trời . sự kết_hợp giữa_hóa học , vật_lý và hình_học là nguyên_nhân chính tạo ra hiện_tượng này . theo dân_gian , quầng mặt_trời thường là dấu_hiệu dự_báo sắp có mưa vì chúng cần tinh_thể băng để hình_thành . tinh_thể băng thường xuất_hiện trong những đám mây ti ở độ cao lớn . những đám mây này có_thể kéo đến nhiều ngày_trước khi có khối khí nóng hoặc lạnh mang mưa đến . tuy_nhiên , không phải mọi đám mây ti đều đi kèm bão . một_số quầng hào_quang chỉ đơn_thuần là tín_hiệu cho thấy lượng nước ở thượng quyển gia_tăng . hoài thương'"
      ]
     },
     "execution_count": 16,
     "metadata": {},
     "output_type": "execute_result"
    }
   ],
   "source": [
    "X_post_processing[500]"
   ]
  },
  {
   "cell_type": "code",
   "execution_count": 17,
   "id": "b7e87454-c986-4a4c-b118-5731011d7a5a",
   "metadata": {},
   "outputs": [
    {
     "data": {
      "text/plain": [
       "'Khoa học'"
      ]
     },
     "execution_count": 17,
     "metadata": {},
     "output_type": "execute_result"
    }
   ],
   "source": [
    "y[500]"
   ]
  },
  {
   "cell_type": "code",
   "execution_count": 18,
   "id": "08508483-eec1-4e8b-8ca7-5edf0ef2a0be",
   "metadata": {
    "tags": []
   },
   "outputs": [],
   "source": [
    "X_train, X_test, y_train, y_test = train_test_split(X_post_processing, y, shuffle = True, test_size = 0.3, random_state = 42)"
   ]
  },
  {
   "cell_type": "code",
   "execution_count": 19,
   "id": "667e717f-f2ae-4720-881a-fe234a59b9f5",
   "metadata": {},
   "outputs": [
    {
     "data": {
      "text/plain": [
       "24614"
      ]
     },
     "execution_count": 19,
     "metadata": {},
     "output_type": "execute_result"
    }
   ],
   "source": [
    "len(X_post_processing)"
   ]
  },
  {
   "cell_type": "code",
   "execution_count": 20,
   "id": "f40d99b7-52f9-4e79-aa6b-f73dd39309c8",
   "metadata": {},
   "outputs": [],
   "source": [
    "vectorizer = TfidfVectorizer()\n",
    "vectorizer.fit(X_train)\n",
    "X_wordemb_train = vectorizer.transform(X_train)\n",
    "X_wordemb_test = vectorizer.transform(X_test)"
   ]
  },
  {
   "cell_type": "code",
   "execution_count": 21,
   "id": "9894ce76-d7fe-4ada-b80a-72e3f87e53e0",
   "metadata": {},
   "outputs": [
    {
     "data": {
      "text/plain": [
       "<17229x70425 sparse matrix of type '<class 'numpy.float64'>'\n",
       "\twith 3607902 stored elements in Compressed Sparse Row format>"
      ]
     },
     "execution_count": 21,
     "metadata": {},
     "output_type": "execute_result"
    }
   ],
   "source": [
    "X_wordemb_train"
   ]
  },
  {
   "cell_type": "code",
   "execution_count": 22,
   "id": "62d2ea06-f32f-4ec6-adb1-a96ee5efaaf7",
   "metadata": {},
   "outputs": [
    {
     "data": {
      "text/plain": [
       "<7385x70425 sparse matrix of type '<class 'numpy.float64'>'\n",
       "\twith 1529065 stored elements in Compressed Sparse Row format>"
      ]
     },
     "execution_count": 22,
     "metadata": {},
     "output_type": "execute_result"
    }
   ],
   "source": [
    "X_wordemb_test"
   ]
  },
  {
   "cell_type": "code",
   "execution_count": 23,
   "id": "e0e3d6c9-a6a2-4e44-aa8c-cdacb1610295",
   "metadata": {},
   "outputs": [
    {
     "name": "stderr",
     "output_type": "stream",
     "text": [
      "/Users/letuxuanhao/opt/miniconda3/envs/envi/lib/python3.6/site-packages/sklearn/linear_model/_logistic.py:765: ConvergenceWarning: lbfgs failed to converge (status=1):\n",
      "STOP: TOTAL NO. of ITERATIONS REACHED LIMIT.\n",
      "\n",
      "Increase the number of iterations (max_iter) or scale the data as shown in:\n",
      "    https://scikit-learn.org/stable/modules/preprocessing.html\n",
      "Please also refer to the documentation for alternative solver options:\n",
      "    https://scikit-learn.org/stable/modules/linear_model.html#logistic-regression\n",
      "  extra_warning_msg=_LOGISTIC_SOLVER_CONVERGENCE_MSG)\n"
     ]
    }
   ],
   "source": [
    "clf_linear = LogisticRegression(random_state=42).fit(X_wordemb_train, y_train)"
   ]
  },
  {
   "cell_type": "code",
   "execution_count": 24,
   "id": "e5b86147-2c32-4fef-8501-3a6669fc9d89",
   "metadata": {},
   "outputs": [
    {
     "data": {
      "text/plain": [
       "0.9260663507109005"
      ]
     },
     "execution_count": 24,
     "metadata": {},
     "output_type": "execute_result"
    }
   ],
   "source": [
    "clf_linear.score(X_wordemb_test, y_test)"
   ]
  },
  {
   "cell_type": "code",
   "execution_count": 108,
   "id": "a569cf46-3516-4cda-b609-566be2ececf3",
   "metadata": {},
   "outputs": [
    {
     "data": {
      "text/plain": [
       "['text_classification.joblib']"
      ]
     },
     "execution_count": 108,
     "metadata": {},
     "output_type": "execute_result"
    }
   ],
   "source": [
    "# import joblib\n",
    "from joblib import dump\n",
    "\n",
    "# dump the pipeline model\n",
    "dump(clf_linear, filename=\"text_classification.joblib\")"
   ]
  },
  {
   "cell_type": "code",
   "execution_count": 25,
   "id": "7c7edf34-6b7c-4c36-b3b0-341f5ca7d4d3",
   "metadata": {
    "collapsed": true,
    "jupyter": {
     "outputs_hidden": true
    },
    "tags": []
   },
   "outputs": [
    {
     "ename": "ValueError",
     "evalue": "Expected 2D array, got scalar array instead:\narray=Địa phương đang có dịch và thực hiện Chỉ thị số 15, 16 trước mắt, tổ chức dạy học trực tuyến; ưu tiên nguồn lực hỗ trợ học sinh khó khăn không có phương tiện học tập trực tuyến; đổi mới phương thức dạy học giúp trẻ em, học sinh vừa học vừa chơi, hứng thú học tập, chấp hành giãn cách, giảm căng thẳng trong thời gian giãn cách xã hội..\nReshape your data either using array.reshape(-1, 1) if your data has a single feature or array.reshape(1, -1) if it contains a single sample.",
     "output_type": "error",
     "traceback": [
      "\u001b[0;31m---------------------------------------------------------------------------\u001b[0m",
      "\u001b[0;31mValueError\u001b[0m                                Traceback (most recent call last)",
      "\u001b[0;32m<ipython-input-25-3de62dbdd1a3>\u001b[0m in \u001b[0;36m<module>\u001b[0;34m\u001b[0m\n\u001b[0;32m----> 1\u001b[0;31m \u001b[0mclf_linear\u001b[0m\u001b[0;34m.\u001b[0m\u001b[0mpredict\u001b[0m\u001b[0;34m(\u001b[0m\u001b[0;34m\"Địa phương đang có dịch và thực hiện Chỉ thị số 15, 16 trước mắt, tổ chức dạy học trực tuyến; ưu tiên nguồn lực hỗ trợ học sinh khó khăn không có phương tiện học tập trực tuyến; đổi mới phương thức dạy học giúp trẻ em, học sinh vừa học vừa chơi, hứng thú học tập, chấp hành giãn cách, giảm căng thẳng trong thời gian giãn cách xã hội.\"\u001b[0m\u001b[0;34m)\u001b[0m\u001b[0;34m\u001b[0m\u001b[0;34m\u001b[0m\u001b[0m\n\u001b[0m",
      "\u001b[0;32m~/opt/miniconda3/envs/envi/lib/python3.6/site-packages/sklearn/linear_model/_base.py\u001b[0m in \u001b[0;36mpredict\u001b[0;34m(self, X)\u001b[0m\n\u001b[1;32m    307\u001b[0m             \u001b[0mPredicted\u001b[0m \u001b[0;32mclass\u001b[0m \u001b[0mlabel\u001b[0m \u001b[0mper\u001b[0m \u001b[0msample\u001b[0m\u001b[0;34m.\u001b[0m\u001b[0;34m\u001b[0m\u001b[0;34m\u001b[0m\u001b[0m\n\u001b[1;32m    308\u001b[0m         \"\"\"\n\u001b[0;32m--> 309\u001b[0;31m         \u001b[0mscores\u001b[0m \u001b[0;34m=\u001b[0m \u001b[0mself\u001b[0m\u001b[0;34m.\u001b[0m\u001b[0mdecision_function\u001b[0m\u001b[0;34m(\u001b[0m\u001b[0mX\u001b[0m\u001b[0;34m)\u001b[0m\u001b[0;34m\u001b[0m\u001b[0;34m\u001b[0m\u001b[0m\n\u001b[0m\u001b[1;32m    310\u001b[0m         \u001b[0;32mif\u001b[0m \u001b[0mlen\u001b[0m\u001b[0;34m(\u001b[0m\u001b[0mscores\u001b[0m\u001b[0;34m.\u001b[0m\u001b[0mshape\u001b[0m\u001b[0;34m)\u001b[0m \u001b[0;34m==\u001b[0m \u001b[0;36m1\u001b[0m\u001b[0;34m:\u001b[0m\u001b[0;34m\u001b[0m\u001b[0;34m\u001b[0m\u001b[0m\n\u001b[1;32m    311\u001b[0m             \u001b[0mindices\u001b[0m \u001b[0;34m=\u001b[0m \u001b[0;34m(\u001b[0m\u001b[0mscores\u001b[0m \u001b[0;34m>\u001b[0m \u001b[0;36m0\u001b[0m\u001b[0;34m)\u001b[0m\u001b[0;34m.\u001b[0m\u001b[0mastype\u001b[0m\u001b[0;34m(\u001b[0m\u001b[0mint\u001b[0m\u001b[0;34m)\u001b[0m\u001b[0;34m\u001b[0m\u001b[0;34m\u001b[0m\u001b[0m\n",
      "\u001b[0;32m~/opt/miniconda3/envs/envi/lib/python3.6/site-packages/sklearn/linear_model/_base.py\u001b[0m in \u001b[0;36mdecision_function\u001b[0;34m(self, X)\u001b[0m\n\u001b[1;32m    282\u001b[0m         \u001b[0mcheck_is_fitted\u001b[0m\u001b[0;34m(\u001b[0m\u001b[0mself\u001b[0m\u001b[0;34m)\u001b[0m\u001b[0;34m\u001b[0m\u001b[0;34m\u001b[0m\u001b[0m\n\u001b[1;32m    283\u001b[0m \u001b[0;34m\u001b[0m\u001b[0m\n\u001b[0;32m--> 284\u001b[0;31m         \u001b[0mX\u001b[0m \u001b[0;34m=\u001b[0m \u001b[0mcheck_array\u001b[0m\u001b[0;34m(\u001b[0m\u001b[0mX\u001b[0m\u001b[0;34m,\u001b[0m \u001b[0maccept_sparse\u001b[0m\u001b[0;34m=\u001b[0m\u001b[0;34m'csr'\u001b[0m\u001b[0;34m)\u001b[0m\u001b[0;34m\u001b[0m\u001b[0;34m\u001b[0m\u001b[0m\n\u001b[0m\u001b[1;32m    285\u001b[0m \u001b[0;34m\u001b[0m\u001b[0m\n\u001b[1;32m    286\u001b[0m         \u001b[0mn_features\u001b[0m \u001b[0;34m=\u001b[0m \u001b[0mself\u001b[0m\u001b[0;34m.\u001b[0m\u001b[0mcoef_\u001b[0m\u001b[0;34m.\u001b[0m\u001b[0mshape\u001b[0m\u001b[0;34m[\u001b[0m\u001b[0;36m1\u001b[0m\u001b[0;34m]\u001b[0m\u001b[0;34m\u001b[0m\u001b[0;34m\u001b[0m\u001b[0m\n",
      "\u001b[0;32m~/opt/miniconda3/envs/envi/lib/python3.6/site-packages/sklearn/utils/validation.py\u001b[0m in \u001b[0;36minner_f\u001b[0;34m(*args, **kwargs)\u001b[0m\n\u001b[1;32m     61\u001b[0m             \u001b[0mextra_args\u001b[0m \u001b[0;34m=\u001b[0m \u001b[0mlen\u001b[0m\u001b[0;34m(\u001b[0m\u001b[0margs\u001b[0m\u001b[0;34m)\u001b[0m \u001b[0;34m-\u001b[0m \u001b[0mlen\u001b[0m\u001b[0;34m(\u001b[0m\u001b[0mall_args\u001b[0m\u001b[0;34m)\u001b[0m\u001b[0;34m\u001b[0m\u001b[0;34m\u001b[0m\u001b[0m\n\u001b[1;32m     62\u001b[0m             \u001b[0;32mif\u001b[0m \u001b[0mextra_args\u001b[0m \u001b[0;34m<=\u001b[0m \u001b[0;36m0\u001b[0m\u001b[0;34m:\u001b[0m\u001b[0;34m\u001b[0m\u001b[0;34m\u001b[0m\u001b[0m\n\u001b[0;32m---> 63\u001b[0;31m                 \u001b[0;32mreturn\u001b[0m \u001b[0mf\u001b[0m\u001b[0;34m(\u001b[0m\u001b[0;34m*\u001b[0m\u001b[0margs\u001b[0m\u001b[0;34m,\u001b[0m \u001b[0;34m**\u001b[0m\u001b[0mkwargs\u001b[0m\u001b[0;34m)\u001b[0m\u001b[0;34m\u001b[0m\u001b[0;34m\u001b[0m\u001b[0m\n\u001b[0m\u001b[1;32m     64\u001b[0m \u001b[0;34m\u001b[0m\u001b[0m\n\u001b[1;32m     65\u001b[0m             \u001b[0;31m# extra_args > 0\u001b[0m\u001b[0;34m\u001b[0m\u001b[0;34m\u001b[0m\u001b[0;34m\u001b[0m\u001b[0m\n",
      "\u001b[0;32m~/opt/miniconda3/envs/envi/lib/python3.6/site-packages/sklearn/utils/validation.py\u001b[0m in \u001b[0;36mcheck_array\u001b[0;34m(array, accept_sparse, accept_large_sparse, dtype, order, copy, force_all_finite, ensure_2d, allow_nd, ensure_min_samples, ensure_min_features, estimator)\u001b[0m\n\u001b[1;32m    689\u001b[0m                     \u001b[0;34m\"Reshape your data either using array.reshape(-1, 1) if \"\u001b[0m\u001b[0;34m\u001b[0m\u001b[0;34m\u001b[0m\u001b[0m\n\u001b[1;32m    690\u001b[0m                     \u001b[0;34m\"your data has a single feature or array.reshape(1, -1) \"\u001b[0m\u001b[0;34m\u001b[0m\u001b[0;34m\u001b[0m\u001b[0m\n\u001b[0;32m--> 691\u001b[0;31m                     \"if it contains a single sample.\".format(array))\n\u001b[0m\u001b[1;32m    692\u001b[0m             \u001b[0;31m# If input is 1D raise error\u001b[0m\u001b[0;34m\u001b[0m\u001b[0;34m\u001b[0m\u001b[0;34m\u001b[0m\u001b[0m\n\u001b[1;32m    693\u001b[0m             \u001b[0;32mif\u001b[0m \u001b[0marray\u001b[0m\u001b[0;34m.\u001b[0m\u001b[0mndim\u001b[0m \u001b[0;34m==\u001b[0m \u001b[0;36m1\u001b[0m\u001b[0;34m:\u001b[0m\u001b[0;34m\u001b[0m\u001b[0;34m\u001b[0m\u001b[0m\n",
      "\u001b[0;31mValueError\u001b[0m: Expected 2D array, got scalar array instead:\narray=Địa phương đang có dịch và thực hiện Chỉ thị số 15, 16 trước mắt, tổ chức dạy học trực tuyến; ưu tiên nguồn lực hỗ trợ học sinh khó khăn không có phương tiện học tập trực tuyến; đổi mới phương thức dạy học giúp trẻ em, học sinh vừa học vừa chơi, hứng thú học tập, chấp hành giãn cách, giảm căng thẳng trong thời gian giãn cách xã hội..\nReshape your data either using array.reshape(-1, 1) if your data has a single feature or array.reshape(1, -1) if it contains a single sample."
     ]
    }
   ],
   "source": [
    "clf_linear.predict(\"Địa phương đang có dịch và thực hiện Chỉ thị số 15, 16 trước mắt, tổ chức dạy học trực tuyến; ưu tiên nguồn lực hỗ trợ học sinh khó khăn không có phương tiện học tập trực tuyến; đổi mới phương thức dạy học giúp trẻ em, học sinh vừa học vừa chơi, hứng thú học tập, chấp hành giãn cách, giảm căng thẳng trong thời gian giãn cách xã hội.\")"
   ]
  },
  {
   "cell_type": "code",
   "execution_count": 26,
   "id": "712d79f9-4641-4ed0-a740-b678d9b1975a",
   "metadata": {},
   "outputs": [],
   "source": [
    "text = \"Trong ngày, Đà Nẵng có 47 ca mắc COVID-19, 5 ca mắc tại cộng đồng là các trường hợp có triệu chứng đến khám, xét nghiệm tại Trung tâm y tế quận Liên Chiểu và Bệnh viện Hoàn Mỹ Đà Nẵng (lấy mẫu đại diện hộ gia đình trước đó âm tính vào các ngày 24 và 30/8). Liên quan đến chuỗi lây nhiễm từ xét nghiệm hộ gia đình vẫn còn nguy cơ cao với 19 ca mắc mới được ghi nhận trong ngày, gồm 13 F1 đã cách ly và 6 trường hợp trong khu phong tỏa. Ban Chỉ đạo cũng cho biết trong ngày, Bệnh viện dã chiến tại ký túc xá phía tây Thành phố, Trung tâm y tế huyện Hòa Vang và Bệnh viện Phổi Đà Nẵng công bố khỏi bệnh và cho xuất viện 170 bệnh nhân mắc COVID-19. Đáng chú ý, tại Trung tâm y tế huyện Hoà Vang có 48 bệnh nhân xuất viện là con số lớn nhất từ trước đến nay, trong đó có đến 25 bệnh nhân là trẻ em, 6 cháu bé dưới 2 tuổi được chữa khỏi bệnh. Bí thư Thành ủy Đà Nẵng Nguyễn Văn Quảng cho rằng, đây là lần đầu tiên Thành phố thực hiện biện pháp giãn dân để phòng, chống dịch. Việc triển khai đến nay, các biện pháp triển khai cơ bản đáp ứng yêu cầu đề ra, thực hiện chặt chẽ. Sau khi hoàn thành di dời người dân tại các kiệt, hẻm có nhiều ca mắc COVID-19, lực lượng y tế sẽ khẩn trương phun khử khuẩn các kiệt, hẻm, khu vực nóng về COVID-19. Lực lượng công an tăng cường tuần tra, tránh để mất mát tài sản của người dân; giám sát việc chấp hành biện pháp phòng, chống dịch trong thời gian thực hiện giãn dân. Ông Hồ Thuyên, Chủ tịch UBND quận Thanh Khê cho biết, trong hai ngày 3/9 và 4/9, chính quyền phối hợp với lực lượng công an, y tế đã vận động, di dời khẩn cấp gần 500 người dân tại loạt điểm nóng lây lan dịch COVID-19 từ Kiệt K112 đến K292; Kiệt K158 đến K160 giao K112/37 Trần Cao Vân có số ca lây nhiễm cao (thuộc tổ 30, 31) và Kiệt K236, K258 và K264 thuộc 3 tổ (14, 15, 17) đều thuộc phường Tam Thuận, quận Thanh Khê. Đến nay trên địa bàn phường Tam Thuận có trên 230 F0. Người dân các điểm kiệt này được đưa về khu tập trung tại 2 trường tiểu học Bế Văn Đàn và Huỳnh Ngọc Huệ được quận Thanh Khê trưng dụng, bố trí đầy đủ điều kiện cần thiết, bố trí nơi ăn ở để người dân tạm thời ra khỏi khu dân cư chật hẹp, phòng tránh lây lan, lây nhiễm chéo dịch bệnh COVID-19. Đồng thời, để hỗ trợ người dân trong thời gian cách ly, UBND TP. Đà Nẵng cũng vừa có Quyết định về việc phê duyệt hỗ trợ các hộ dân và đối tượng bảo trợ xã hội tập trung trong thời gian Thành phố tiếp tục thực hiện các biện pháp cấp bách phòng, chống dịch, tổng kinh phí hơn 113 tỷ đồng.Các hộ dân trên địa bàn Đà Nẵng (kể cả tạm trú, sinh viên, lao động thuê trọ) chưa nhận được hỗ trợ trong gói hỗ trợ hơn 71 tỷ đồng trước đó, sẽ được hỗ trợ tiền mặt mức 500.000 đồng/hộ. Các đối tượng bảo trợ xã hội nuôi dưỡng tập trung, chi hỗ trợ bằng tiền mặt mức 250.000 đồng/người. Tổng cộng sẽ có 226.225 hộ dân được nhận hỗ trợ lần này. Trước đó, Đà Nẵng đã triển khai gói hỗ trợ hơn 71 tỷ đồng cho hơn 142.000 hộ dân.\""
   ]
  },
  {
   "cell_type": "code",
   "execution_count": 109,
   "id": "8cc3f453-5ad3-4113-915b-e825b7afe2c5",
   "metadata": {},
   "outputs": [],
   "source": [
    "def transform_text(text):\n",
    "    string = ViTokenizer.tokenize(text.lower().replace('\\n', ' '))\n",
    "    string_word_emb = vectorizer.transform([string])\n",
    "    return string_word_emb"
   ]
  },
  {
   "cell_type": "code",
   "execution_count": 110,
   "id": "71e38670-0c67-4570-bb04-dd5047b71027",
   "metadata": {},
   "outputs": [
    {
     "data": {
      "text/plain": [
       "array(['Pháp luật'], dtype='<U10')"
      ]
     },
     "execution_count": 110,
     "metadata": {},
     "output_type": "execute_result"
    }
   ],
   "source": [
    "clf_linear.predict(transform_text(text))"
   ]
  },
  {
   "cell_type": "code",
   "execution_count": 27,
   "id": "67298f18-3840-4a3c-8265-e69f91ddd69b",
   "metadata": {},
   "outputs": [
    {
     "data": {
      "text/plain": [
       "'trong ngày , đà_nẵng có 47 ca mắc covid - 19 , 5 ca mắc tại cộng_đồng là các trường_hợp có triệu_chứng đến khám , xét_nghiệm tại trung_tâm y_tế quận liên chiểu và bệnh_viện hoàn_mỹ đà_nẵng ( lấy mẫu đại_diện hộ gia_đình trước đó âm_tính vào các ngày 24 và 30 / 8 ) . liên_quan đến chuỗi lây_nhiễm từ xét_nghiệm hộ gia_đình vẫn còn nguy_cơ cao với 19 ca mắc mới được ghi_nhận trong ngày , gồm 13 f1 đã cách_ly và 6 trường_hợp trong khu phong_tỏa . ban chỉ_đạo cũng cho biết trong ngày , bệnh_viện dã_chiến tại ký_túc_xá phía tây thành_phố , trung_tâm y_tế huyện hòa vang và bệnh_viện phổi đà_nẵng công_bố khỏi bệnh và cho xuất_viện 170 bệnh_nhân mắc covid - 19 . đáng chú_ý , tại trung_tâm y_tế huyện hoà vang có 48 bệnh_nhân xuất_viện là con_số lớn nhất từ trước đến nay , trong đó có đến 25 bệnh_nhân là trẻ_em , 6 cháu bé dưới 2 tuổi được chữa khỏi bệnh . bí_thư thành_ủy đà_nẵng nguyễn văn quảng cho rằng , đây là lần đầu_tiên thành_phố thực_hiện biện_pháp giãn dân để phòng , chống dịch . việc triển_khai đến nay , các biện_pháp triển_khai cơ_bản đáp_ứng yêu_cầu đề ra , thực_hiện chặt_chẽ . sau khi hoàn_thành di_dời người dân tại các kiệt , hẻm có nhiều ca mắc covid - 19 , lực_lượng y_tế sẽ khẩn_trương phun khử khuẩn các kiệt , hẻm , khu_vực nóng về covid - 19 . lực_lượng công_an tăng_cường tuần_tra , tránh để mất_mát tài_sản của người dân ; giám_sát việc chấp_hành biện_pháp phòng , chống dịch trong thời_gian thực_hiện giãn dân . ông hồ thuyên , chủ_tịch ubnd quận thanh_khê cho biết , trong hai ngày 3 / 9 và 4 / 9 , chính_quyền phối_hợp với lực_lượng công_an , y_tế đã vận_động , di_dời khẩn_cấp gần 500 người dân tại loạt điểm_nóng lây_lan dịch covid - 19 từ kiệt k112 đến k292 ; kiệt k158 đến k160 giao k112 / 37 trần cao vân có số ca lây_nhiễm cao ( thuộc tổ 30 , 31 ) và kiệt k236 , k258 và k264 thuộc 3 tổ ( 14 , 15 , 17 ) đều thuộc phường tam_thuận , quận thanh_khê . đến nay trên địa_bàn phường tam_thuận có trên 230 f0 . người dân các điểm kiệt này được đưa về khu tập_trung tại 2 trường tiểu_học bế văn đàn và huỳnh ngọc huệ được quận thanh_khê trưng_dụng , bố_trí đầy_đủ điều_kiện cần_thiết , bố_trí nơi ăn_ở để người dân tạm_thời ra khỏi khu dân_cư chật_hẹp , phòng_tránh lây_lan , lây_nhiễm chéo dịch_bệnh covid - 19 . đồng_thời , để hỗ_trợ người dân trong thời_gian cách_ly , ubnd tp . đà_nẵng cũng vừa có quyết_định về việc phê_duyệt hỗ_trợ các hộ dân và đối_tượng bảo_trợ xã_hội tập_trung trong thời_gian thành_phố tiếp_tục thực_hiện các biện_pháp cấp_bách phòng , chống dịch , tổng kinh_phí hơn 113 tỷ đồng . các hộ dân trên địa_bàn đà_nẵng ( kể_cả tạm_trú , sinh_viên , lao_động thuê trọ ) chưa nhận được hỗ_trợ trong gói hỗ_trợ hơn 71 tỷ đồng trước đó , sẽ được hỗ_trợ tiền_mặt mức 500.000 đồng / hộ . các đối_tượng bảo_trợ xã_hội nuôi_dưỡng tập_trung , chi hỗ_trợ bằng tiền_mặt mức 250.000 đồng / người . tổng_cộng sẽ có 226.225 hộ dân được nhận hỗ_trợ lần này . trước đó , đà_nẵng đã triển_khai gói hỗ_trợ hơn 71 tỷ đồng cho hơn 142.000 hộ dân .'"
      ]
     },
     "execution_count": 27,
     "metadata": {},
     "output_type": "execute_result"
    }
   ],
   "source": [
    "string = ViTokenizer.tokenize(text.lower().replace('\\n', ' '))\n",
    "string"
   ]
  },
  {
   "cell_type": "code",
   "execution_count": 28,
   "id": "061ed07a-985c-4cb0-b921-cebbffe1265a",
   "metadata": {},
   "outputs": [
    {
     "data": {
      "text/plain": [
       "<1x70425 sparse matrix of type '<class 'numpy.float64'>'\n",
       "\twith 236 stored elements in Compressed Sparse Row format>"
      ]
     },
     "execution_count": 28,
     "metadata": {},
     "output_type": "execute_result"
    }
   ],
   "source": [
    "string_word_emb = vectorizer.transform([string])\n",
    "string_word_emb"
   ]
  },
  {
   "cell_type": "code",
   "execution_count": 29,
   "id": "0c687b58-7e49-417f-828e-02b70249db7e",
   "metadata": {},
   "outputs": [
    {
     "data": {
      "text/plain": [
       "array(['Pháp luật'], dtype='<U10')"
      ]
     },
     "execution_count": 29,
     "metadata": {},
     "output_type": "execute_result"
    }
   ],
   "source": [
    "clf_linear.predict(string_word_emb)"
   ]
  },
  {
   "cell_type": "code",
   "execution_count": null,
   "id": "f6486104-f51c-4eab-a1d5-3a01d2c13532",
   "metadata": {},
   "outputs": [],
   "source": []
  }
 ],
 "metadata": {
  "kernelspec": {
   "display_name": "Python 3",
   "language": "python",
   "name": "python3"
  },
  "language_info": {
   "codemirror_mode": {
    "name": "ipython",
    "version": 3
   },
   "file_extension": ".py",
   "mimetype": "text/x-python",
   "name": "python",
   "nbconvert_exporter": "python",
   "pygments_lexer": "ipython3",
   "version": "3.6.13"
  }
 },
 "nbformat": 4,
 "nbformat_minor": 5
}
