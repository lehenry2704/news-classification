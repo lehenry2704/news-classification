{
 "cells": [
  {
   "cell_type": "code",
   "execution_count": 58,
   "id": "0a1584bc-3910-4e64-907e-a809ee7de560",
   "metadata": {
    "tags": []
   },
   "outputs": [],
   "source": [
    "import pandas as pd\n",
    "import numpy as np\n",
    "import json\n",
    "from pyvi import ViTokenizer, ViPosTagger \n",
    "from sklearn.feature_extraction.text import TfidfVectorizer\n",
    "from sklearn.model_selection import train_test_split\n",
    "from sklearn.linear_model import LogisticRegression\n",
    "\n",
    "data = pd.read_json('test copy.json', convert_dates = True)"
   ]
  },
  {
   "cell_type": "code",
   "execution_count": 39,
   "id": "1c19b707-d6fc-440e-be2b-3cc4e28703b8",
   "metadata": {
    "tags": []
   },
   "outputs": [
    {
     "data": {
      "text/html": [
       "<div>\n",
       "<style scoped>\n",
       "    .dataframe tbody tr th:only-of-type {\n",
       "        vertical-align: middle;\n",
       "    }\n",
       "\n",
       "    .dataframe tbody tr th {\n",
       "        vertical-align: top;\n",
       "    }\n",
       "\n",
       "    .dataframe thead th {\n",
       "        text-align: right;\n",
       "    }\n",
       "</style>\n",
       "<table border=\"1\" class=\"dataframe\">\n",
       "  <thead>\n",
       "    <tr style=\"text-align: right;\">\n",
       "      <th></th>\n",
       "      <th>body</th>\n",
       "      <th>breadcrumbs</th>\n",
       "      <th>source</th>\n",
       "      <th>tag</th>\n",
       "      <th>link</th>\n",
       "      <th>sabo</th>\n",
       "      <th>time</th>\n",
       "      <th>heading</th>\n",
       "    </tr>\n",
       "  </thead>\n",
       "  <tbody>\n",
       "    <tr>\n",
       "      <th>0</th>\n",
       "      <td>[Ma túy trên ôtô. Ảnh: Hải quan TP HCM., Vào n...</td>\n",
       "      <td>[Pháp luật, An ninh - Trật tự]</td>\n",
       "      <td>Tiền Phong</td>\n",
       "      <td>[Liu Ming Yang, Jhu Minh Jyun, Ketamine, Máy é...</td>\n",
       "      <td>/vi-sao-lo-500kg-ma-tuy-tu-quang-ninh-lot-vao-...</td>\n",
       "      <td>\\n            Các đối tượng trong đường dây ma...</td>\n",
       "      <td>2019-05-12T19:11:50.000+07:00</td>\n",
       "      <td>Vì sao lô 500kg ma túy từ Quảng Ninh lọt vào t...</td>\n",
       "    </tr>\n",
       "    <tr>\n",
       "      <th>1</th>\n",
       "      <td>[Cách đây hơn một năm, tôi từng kêu gọi Mark Z...</td>\n",
       "      <td>[Thế giới]</td>\n",
       "      <td>Zing</td>\n",
       "      <td>[Mark Zuckerberg, Xả súng, Phân biệt chủng tộc...</td>\n",
       "      <td>/la-that-bai-lon-nhat-cua-facebook-mark-zucker...</td>\n",
       "      <td>\\n            Facebook cần một sự điều hành có...</td>\n",
       "      <td>2019-05-10T06:00:00.000+07:00</td>\n",
       "      <td>Là thất bại lớn nhất của Facebook, Mark Zucker...</td>\n",
       "    </tr>\n",
       "    <tr>\n",
       "      <th>2</th>\n",
       "      <td>[Niềm tin vào giáo dục của người dân đang bị b...</td>\n",
       "      <td>[Giáo dục]</td>\n",
       "      <td>Zing</td>\n",
       "      <td>[Điểm thi, Gian lận, Thí sinh, Thi cử, Kỳ thi,...</td>\n",
       "      <td>/gian-lan-thi-cu-va-ao-vong-con-vua-thi-lai-la...</td>\n",
       "      <td>\\n            Người lớn có trách nhiệm gì và c...</td>\n",
       "      <td>2019-05-10T06:06:00.000+07:00</td>\n",
       "      <td>Gian lận thi cử và ảo vọng 'con vua thì lại là...</td>\n",
       "    </tr>\n",
       "    <tr>\n",
       "      <th>3</th>\n",
       "      <td>[Dinh dưỡng tinh thần cực kỳ quan trọng, Có mặ...</td>\n",
       "      <td>[Giáo dục]</td>\n",
       "      <td>VietnamNet</td>\n",
       "      <td>[Bùi Trân Phượng, Nguyễn Quốc Vương, Cảm quan,...</td>\n",
       "      <td>/con-sinh-ra-tu-do-va-con-duoc-lam-bat-cu-dieu...</td>\n",
       "      <td>\\n            'Tôi vẫn luôn nhớ tôi đã nói với...</td>\n",
       "      <td>2019-05-10T07:03:00.000+07:00</td>\n",
       "      <td>'Con sinh ra tự do và con được làm bất cứ điều...</td>\n",
       "    </tr>\n",
       "    <tr>\n",
       "      <th>4</th>\n",
       "      <td>[1., Khu vườn rộng 180 ha, là tài sản thuộc \"s...</td>\n",
       "      <td>[Văn hóa, Du lịch]</td>\n",
       "      <td>NLĐ</td>\n",
       "      <td>[Vincent van Gogh, Lữ quán, Eguisheim, Quận 14...</td>\n",
       "      <td>/hoc-nguoi-ta-cach-giu-lai-dau-xua/r/30655373.epi</td>\n",
       "      <td>\\n            Cái gì đã vào tranh của Van Gogh...</td>\n",
       "      <td>2019-05-10T05:00:00.000+07:00</td>\n",
       "      <td>Học người ta cách giữ lại dấu xưa</td>\n",
       "    </tr>\n",
       "    <tr>\n",
       "      <th>...</th>\n",
       "      <td>...</td>\n",
       "      <td>...</td>\n",
       "      <td>...</td>\n",
       "      <td>...</td>\n",
       "      <td>...</td>\n",
       "      <td>...</td>\n",
       "      <td>...</td>\n",
       "      <td>...</td>\n",
       "    </tr>\n",
       "    <tr>\n",
       "      <th>26302</th>\n",
       "      <td>[Ngày 10/5, Ủy ban Kiểm tra Tỉnh ủy Quảng Ngãi...</td>\n",
       "      <td>[Pháp luật]</td>\n",
       "      <td>ĐS&amp;PL</td>\n",
       "      <td>[Thi hành kỷ luật, Khiển trách, Tỉnh ủy, Kỳ họ...</td>\n",
       "      <td>/ky-luat-truong-cong-an-huyen-vi-de-cap-duoi-s...</td>\n",
       "      <td>\\n            Trưởng công an huyện Bình Sơn bị...</td>\n",
       "      <td>2019-05-10T22:15:00.000+07:00</td>\n",
       "      <td>Kỷ luật Trưởng Công an huyện vì để cấp dưới sa...</td>\n",
       "    </tr>\n",
       "    <tr>\n",
       "      <th>26303</th>\n",
       "      <td>[ Quán karaoke nơi xảy ra vụ việc , Theo đó, k...</td>\n",
       "      <td>[Pháp luật, Hình sự - Dân sự]</td>\n",
       "      <td>BVPL</td>\n",
       "      <td>[Nguyễn Tư Duy, Vũ Đình Bình, Quán karaoke Tha...</td>\n",
       "      <td>/doi-tuong-dam-tu-vong-nhan-vien-le-tan-trong-...</td>\n",
       "      <td>\\n            Công an huyện Giao Thủy (Nam Địn...</td>\n",
       "      <td>2019-05-10T22:33:00.000+07:00</td>\n",
       "      <td>Đối tượng đâm tử vong nhân viên lễ tân trong q...</td>\n",
       "    </tr>\n",
       "    <tr>\n",
       "      <th>26304</th>\n",
       "      <td>[Tối 10/5, các lực lượng chức năng đang khẩn t...</td>\n",
       "      <td>[Pháp luật, Hình sự - Dân sự]</td>\n",
       "      <td>VTC</td>\n",
       "      <td>[Biển Liên Chiểu, Phường Hòa Hiệp Bắc, Tắm biể...</td>\n",
       "      <td>/tam-bien-o-da-nang-nam-sinh-vien-bi-song-cuon...</td>\n",
       "      <td>\\n            Cùng 2 người bạn ra bãi biển Liê...</td>\n",
       "      <td>2019-05-10T22:34:00.000+07:00</td>\n",
       "      <td>Tắm biển ở Đà Nẵng, nam sinh viên bị sóng cuốn...</td>\n",
       "    </tr>\n",
       "    <tr>\n",
       "      <th>26305</th>\n",
       "      <td>[Mới đây, siêu mẫu Hạ Vy chia sẻ hình ảnh hai ...</td>\n",
       "      <td>[Pháp luật, Hình sự - Dân sự]</td>\n",
       "      <td>VietnamNet</td>\n",
       "      <td>[Hạ Vy, Ford 7, Lạc Trung, Thanh nhàn, Xây xát...</td>\n",
       "      <td>/con-trai-sieu-mau-ha-vy-bi-o-to-tong-chan-don...</td>\n",
       "      <td>\\n            Siêu mẫu Hạ Vy cho biết, hiện co...</td>\n",
       "      <td>2019-05-10T22:24:00.000+07:00</td>\n",
       "      <td>Con trai siêu mẫu Hạ Vy bị ô tô tông chấn động...</td>\n",
       "    </tr>\n",
       "    <tr>\n",
       "      <th>26306</th>\n",
       "      <td>[Ngày 13/5, TAND tỉnh Hòa Bình dự kiến xét xử ...</td>\n",
       "      <td>[Pháp luật]</td>\n",
       "      <td>Zing</td>\n",
       "      <td>[Hoàng Công Lương, Vô ý, Chạy thận nhân tạo, C...</td>\n",
       "      <td>/bo-y-te-de-nghi-xet-xu-khach-quan-vu-an-chay-...</td>\n",
       "      <td>\\n            Bộ Y tế cho rằng lỗi của cựu bác...</td>\n",
       "      <td>2019-05-10T20:45:00.000+07:00</td>\n",
       "      <td>Bộ Y tế đề nghị xét xử khách quan vụ án chạy t...</td>\n",
       "    </tr>\n",
       "  </tbody>\n",
       "</table>\n",
       "<p>26307 rows × 8 columns</p>\n",
       "</div>"
      ],
      "text/plain": [
       "                                                    body  \\\n",
       "0      [Ma túy trên ôtô. Ảnh: Hải quan TP HCM., Vào n...   \n",
       "1      [Cách đây hơn một năm, tôi từng kêu gọi Mark Z...   \n",
       "2      [Niềm tin vào giáo dục của người dân đang bị b...   \n",
       "3      [Dinh dưỡng tinh thần cực kỳ quan trọng, Có mặ...   \n",
       "4      [1., Khu vườn rộng 180 ha, là tài sản thuộc \"s...   \n",
       "...                                                  ...   \n",
       "26302  [Ngày 10/5, Ủy ban Kiểm tra Tỉnh ủy Quảng Ngãi...   \n",
       "26303  [ Quán karaoke nơi xảy ra vụ việc , Theo đó, k...   \n",
       "26304  [Tối 10/5, các lực lượng chức năng đang khẩn t...   \n",
       "26305  [Mới đây, siêu mẫu Hạ Vy chia sẻ hình ảnh hai ...   \n",
       "26306  [Ngày 13/5, TAND tỉnh Hòa Bình dự kiến xét xử ...   \n",
       "\n",
       "                          breadcrumbs      source  \\\n",
       "0      [Pháp luật, An ninh - Trật tự]  Tiền Phong   \n",
       "1                          [Thế giới]        Zing   \n",
       "2                          [Giáo dục]        Zing   \n",
       "3                          [Giáo dục]  VietnamNet   \n",
       "4                  [Văn hóa, Du lịch]         NLĐ   \n",
       "...                               ...         ...   \n",
       "26302                     [Pháp luật]       ĐS&PL   \n",
       "26303   [Pháp luật, Hình sự - Dân sự]        BVPL   \n",
       "26304   [Pháp luật, Hình sự - Dân sự]         VTC   \n",
       "26305   [Pháp luật, Hình sự - Dân sự]  VietnamNet   \n",
       "26306                     [Pháp luật]        Zing   \n",
       "\n",
       "                                                     tag  \\\n",
       "0      [Liu Ming Yang, Jhu Minh Jyun, Ketamine, Máy é...   \n",
       "1      [Mark Zuckerberg, Xả súng, Phân biệt chủng tộc...   \n",
       "2      [Điểm thi, Gian lận, Thí sinh, Thi cử, Kỳ thi,...   \n",
       "3      [Bùi Trân Phượng, Nguyễn Quốc Vương, Cảm quan,...   \n",
       "4      [Vincent van Gogh, Lữ quán, Eguisheim, Quận 14...   \n",
       "...                                                  ...   \n",
       "26302  [Thi hành kỷ luật, Khiển trách, Tỉnh ủy, Kỳ họ...   \n",
       "26303  [Nguyễn Tư Duy, Vũ Đình Bình, Quán karaoke Tha...   \n",
       "26304  [Biển Liên Chiểu, Phường Hòa Hiệp Bắc, Tắm biể...   \n",
       "26305  [Hạ Vy, Ford 7, Lạc Trung, Thanh nhàn, Xây xát...   \n",
       "26306  [Hoàng Công Lương, Vô ý, Chạy thận nhân tạo, C...   \n",
       "\n",
       "                                                    link  \\\n",
       "0      /vi-sao-lo-500kg-ma-tuy-tu-quang-ninh-lot-vao-...   \n",
       "1      /la-that-bai-lon-nhat-cua-facebook-mark-zucker...   \n",
       "2      /gian-lan-thi-cu-va-ao-vong-con-vua-thi-lai-la...   \n",
       "3      /con-sinh-ra-tu-do-va-con-duoc-lam-bat-cu-dieu...   \n",
       "4      /hoc-nguoi-ta-cach-giu-lai-dau-xua/r/30655373.epi   \n",
       "...                                                  ...   \n",
       "26302  /ky-luat-truong-cong-an-huyen-vi-de-cap-duoi-s...   \n",
       "26303  /doi-tuong-dam-tu-vong-nhan-vien-le-tan-trong-...   \n",
       "26304  /tam-bien-o-da-nang-nam-sinh-vien-bi-song-cuon...   \n",
       "26305  /con-trai-sieu-mau-ha-vy-bi-o-to-tong-chan-don...   \n",
       "26306  /bo-y-te-de-nghi-xet-xu-khach-quan-vu-an-chay-...   \n",
       "\n",
       "                                                    sabo  \\\n",
       "0      \\n            Các đối tượng trong đường dây ma...   \n",
       "1      \\n            Facebook cần một sự điều hành có...   \n",
       "2      \\n            Người lớn có trách nhiệm gì và c...   \n",
       "3      \\n            'Tôi vẫn luôn nhớ tôi đã nói với...   \n",
       "4      \\n            Cái gì đã vào tranh của Van Gogh...   \n",
       "...                                                  ...   \n",
       "26302  \\n            Trưởng công an huyện Bình Sơn bị...   \n",
       "26303  \\n            Công an huyện Giao Thủy (Nam Địn...   \n",
       "26304  \\n            Cùng 2 người bạn ra bãi biển Liê...   \n",
       "26305  \\n            Siêu mẫu Hạ Vy cho biết, hiện co...   \n",
       "26306  \\n            Bộ Y tế cho rằng lỗi của cựu bác...   \n",
       "\n",
       "                                time  \\\n",
       "0      2019-05-12T19:11:50.000+07:00   \n",
       "1      2019-05-10T06:00:00.000+07:00   \n",
       "2      2019-05-10T06:06:00.000+07:00   \n",
       "3      2019-05-10T07:03:00.000+07:00   \n",
       "4      2019-05-10T05:00:00.000+07:00   \n",
       "...                              ...   \n",
       "26302  2019-05-10T22:15:00.000+07:00   \n",
       "26303  2019-05-10T22:33:00.000+07:00   \n",
       "26304  2019-05-10T22:34:00.000+07:00   \n",
       "26305  2019-05-10T22:24:00.000+07:00   \n",
       "26306  2019-05-10T20:45:00.000+07:00   \n",
       "\n",
       "                                                 heading  \n",
       "0      Vì sao lô 500kg ma túy từ Quảng Ninh lọt vào t...  \n",
       "1      Là thất bại lớn nhất của Facebook, Mark Zucker...  \n",
       "2      Gian lận thi cử và ảo vọng 'con vua thì lại là...  \n",
       "3      'Con sinh ra tự do và con được làm bất cứ điều...  \n",
       "4                      Học người ta cách giữ lại dấu xưa  \n",
       "...                                                  ...  \n",
       "26302  Kỷ luật Trưởng Công an huyện vì để cấp dưới sa...  \n",
       "26303  Đối tượng đâm tử vong nhân viên lễ tân trong q...  \n",
       "26304  Tắm biển ở Đà Nẵng, nam sinh viên bị sóng cuốn...  \n",
       "26305  Con trai siêu mẫu Hạ Vy bị ô tô tông chấn động...  \n",
       "26306  Bộ Y tế đề nghị xét xử khách quan vụ án chạy t...  \n",
       "\n",
       "[26307 rows x 8 columns]"
      ]
     },
     "execution_count": 39,
     "metadata": {},
     "output_type": "execute_result"
    }
   ],
   "source": [
    "data"
   ]
  },
  {
   "cell_type": "code",
   "execution_count": 40,
   "id": "a0228491-eab1-4730-bcc9-b6011a6f2d8b",
   "metadata": {},
   "outputs": [
    {
     "data": {
      "text/plain": [
       "Index(['Giải trí', 'Đời sống', 'Công nghệ ', 'Nhà đất', 'Pháp luật', 'Xe cộ',\n",
       "       'Khoa học'],\n",
       "      dtype='object')"
      ]
     },
     "execution_count": 40,
     "metadata": {},
     "output_type": "execute_result"
    }
   ],
   "source": [
    "#only use 1 trait for each breadcrumbs\n",
    "breadcrumbs_simplify = []\n",
    "for i in data.breadcrumbs:\n",
    "    breadcrumbs_simplify.append(i[0])\n",
    "s = pd.Series(breadcrumbs_simplify)\n",
    "#include all of the different breadcrumbs\n",
    "list_of_breadcrumbs = s.value_counts()\n",
    "list_of_breadcrumbs.index[:7]"
   ]
  },
  {
   "cell_type": "code",
   "execution_count": 41,
   "id": "2d37fa67-e9ac-473f-880a-0636a4f9ca8d",
   "metadata": {
    "collapsed": true,
    "jupyter": {
     "outputs_hidden": true
    },
    "tags": []
   },
   "outputs": [
    {
     "data": {
      "text/plain": [
       "[['Ma túy trên ôtô. Ảnh: Hải quan TP HCM.',\n",
       "  'Vào ngày 11/5, cơ quan chức năng đã tiến hành triệt phá một đường dây ma túy “khủng”. Cụ thể các lực lượng của Cục trưởng Cục Cảnh sát điều tra tội phạm về ma túy-Bộ Công an (C04), Cục hải quan TPHCM, Tiểu đoàn Cảnh sát đặc nhiệm số 2, Công an TPHCM, Công an tỉnh Bình Dương… chia nhiều mũi, đồng loạt khám xét các kho hàng tại xã Vĩnh Lộc A (huyện Bình Chánh) và một số địa điểm ở các quận Tân Phú, Tân Bình....',\n",
       "  'Tại các địa điểm nay, nhà chức trách phát hiện khoảng 500 kg ma túy tổng hợp Ketamin trên ôtô 7 chỗ và nhiều tang vật khác. Lực lượng chức năng cũng tiến hành giữ đối tượng Liu Ming Yang (34 tuổi), Jhu Minh Jyun (32 tuổi) và Nguyễn Thị Thu Vân (36 tuổi, cùng quốc tịch Đài Loan); Tô Gia Mỹ (33 tuổi, quốc tịch Trung Quốc).',\n",
       "  'Theo cơ quan chức năng, đây là đường dây vận chuyển trái phép chất ma túy (ketamine) có số lượng lớn nhất từ trước đến nay về Việt Nam để tuồn ra nước ngoài tiêu thụ. Số ma túy này có giá trị ước tính lên đến gần 500 tỷ đồng. Đường dây do đối tượng người Đài Loan (Trung Quốc) cầm đầu.',\n",
       "  'Đối tượng cầm đầu Liu Ming Yang (34 tuổi, người Đài Loan) thường xuyên nhập cảnh vào Việt Nam để tổ chức điều hành, chỉ đạo đàn em thực hiện vận chuyển trái phép chất ma túy.',\n",
       "  'Số ma túy bị công an thu giữ. Ảnh Văn Minh',\n",
       "  '\"Ông trùm\" ma túy chỉ đạo đàn em Jhu Minh Jyun (32 tuổi, người Đài Loan) nhập cảnh vào Việt Nam. Đến khu vực cửa khẩu Móng Cái (Quảng Ninh) nhận 4 máy ép bao bì và ma túy. Sau đó đưa lên xe ô tô vận chuyển vào TPHCM (vượt quảng đường gần 2000km).',\n",
       "  'Thiếu tướng Phạm Văn Các, Cục trưởng Cục trưởng Cảnh sát điều tra tội phạm về ma túy cho biết, thủ đoạn của các đối tượng trong đường dây ma túy này hết sức tinh vi.',\n",
       "  'Đối tượng Jhu Minh Jyun (32 tuổi) bị công an bắt. Ảnh Văn Minh',\n",
       "  '“Các đối tượng đưa ma túy lên xe giao hàng, giả như xe giao hàng cho siêu thị, dừng gần siêu thị để từ đó đồng bọn đến lái xe, mang ma túy đi tiếp”, thiếu tướng Các nói và cho biết thêm, bằng thủ đoạn này mà các đối tượng đã vận chuyển hơn 500kg ma túy qua quảng đường dài gần 2000km.',\n",
       "  'Ông Huỳnh Nam, Đội trưởng Đội kiểm soát phòng, chống ma túy (Cục Hải quan TPHCM) cho biết, các đối tượng liên lạc với nhau bằng những thiết bị hết sức hiện đại như qua các thiết bị vệ tinh. Thường xuyên thay đổi kho chứa ma túy khiến việc đeo bám theo dõi của lực lượng chức năng gặp khó khăn.',\n",
       "  ' Ông Huỳnh Nam, Đội trưởng Đội kiểm soát phòng, chống ma túy (Cục Hải quan TPHCM). Clip Văn Minh',\n",
       "  'Theo ông Nam, sau nhiều vụ án ma túy bị triệt phá, các đối tượng ma túy đã chuyển sang hình thức vận chuyển chất lỏng, giấu vào các loại máy móc để qua mặt cơ quan chức năng. Từ đó, số ma túy tập kết tại TPHCM và được đưa đi xuất lậu qua nước thứ 3 theo ý đồ của các đối tượng.',\n",
       "  'Văn Minh'],\n",
       " ['Cách đây hơn một năm, tôi từng kêu gọi Mark Zuckerberg, Chủ tịch Hội đồng Quản trị kiêm CEO của Facebook, nên từ chức hoặc bị sa thải.',\n",
       "  'Dù Facebook đã hứng chịu rất nhiều chỉ trích, nhiều người vào thời điểm đó vẫn cho rằng đòi hỏi Zuckerberg từ chức là khắt khe. Ông chủ Facebook vẫn được tin tưởng sẽ có thể đưa ra những giải pháp đúng đắn để giải quyết triệt để mọi vấn đề.',\n",
       "  'Một năm trôi qua với biết bao thay đổi. Giờ đây mọi chuyện trở nên sáng tỏ hơn với nhiều người trên toàn thế giới.',\n",
       "  'Thất bại lớn nhất của Facebook',\n",
       "  'Sở hữu hơn 58% cổ phiếu có quyền biểu quyết, Zuckerberg nắm giữ những vị trí trọng yếu nhất và thâu tóm hết quyền lực vào tay. Ông chủ Facebook ở trong vị thế không thể bị khuất phục, có thể phủi tay trước mọi trách nhiệm mặc cho đòi hỏi càng cao từ phía cổ đông, các nhóm hoạt động nhân quyền, nhà chức trách cũng như người dùng Facebook toàn cầu trong việc giải quyết tận gốc những vấn đề mạng xã hội này gây ra đối với toàn xã hội.',\n",
       "  'Bản thân tôi không nắm giữ bất kỳ cổ phần nào của Facebook. Chúng tôi luôn tin rằng Mark Zuckerberg thiếu phẩm chất lãnh đạo cần thiết để chèo chống và chịu trách nhiệm cho một nền tảng truyền thông toàn cầu với 2,8 tỷ người dùng toàn cầu như Facebook.',\n",
       "  'Thất bại lớn nhất của Facebook chính là ông chủ của mình và đã đến lúc Zuckerberg thoái lui.',\n",
       "  'Facebook rơi vào khủng hoảng này đến khủng hoảng khác, và đó là hậu quả từ cách điều hành của Zuckerberg. Liên tục đưa tin về những thất bại lẫn bê bối của Facebook, báo chí, truyền thông giờ đây ngày càng tìm được đồng thuận: Thất bại lớn nhất của Facebook chính là ông chủ của mình và đã đến lúc Zuckerberg thoái lui.',\n",
       "  'Câu chuyện đó là hợp lý khi Zuckerberg quá rõ ràng đã thất bại trong việc đối mặt với các rủi ro tài chính, pháp lý, quy định, và uy tín. Các nhà đầu tư bị che mắt về những cuộc tranh cãi liên tiếp. Điều này đã gây tổn hại nghiêm trọng giá trị của cổ đông, làm giảm khả năng giám sát hoạt động công ty, và đe dọa sự lành mạnh của xã hội.',\n",
       "  'Nhiều nhà đầu tư bày tỏ sự bất hợp tác của mình. Năm 2018, hơn một phần ba (35%) cổ đông phổ thông không ủng hộ để Mark Zuckerberg tiếp tục làm Chủ tịch Hội đồng quản trị.',\n",
       "  'Khi những yếu kém và sự bất lực của Zuckerberg thu hút sự chú ý từ truyền thông, làm dấy lên nghi ngờ từ nhà các nhà quản lý đi kèm với yêu cầu nộp phạt từ các cơ quan luật pháp, ông chủ Facebook trở thành gánh nặng của chính công ty mình.',\n",
       "  'Vô cảm với nhóm yếu thế',\n",
       "  'Dưới sự điều hành của Zuckerberg, Facebook đã và đang phải đối mặt với hàng loạt các cuộc điều tra và kiện tụng liên quan đến quyền riêng tư của người dùng hay mất mát dữ liệu.',\n",
       "  'Mới đây Ủy ban Thương mại Liên bang Mỹ cho biết nền tảng mạng xã hội này sẽ phải đối mặt với khoản tiền phạt kỷ lục lên đến 5 tỷ USD. Tuy vậy, nhiều Thượng nghị sĩ cho rằng khoản phạt này vẫn còn nhẹ và yêu cầu các cơ quan quản lý, ngoài pháp nhân Facebook, nên cáo buộc Zuckerberg là “cá nhân có lỗi và phải chịu trách nhiệm” cho những vi phạm liên tiếp, phải chịu đồng thời “hình phạt và nộp phạt”.',\n",
       "  'Một trong số các vi phạm của Zuckerberg hiện nay là cách tiếp cận vô cảm trong vấn đề bảo vệ nhóm yếu thế và cộng đồng bị lãng quên. Gần 10 năm qua, rất nhiều tổ chức đã vận động, yêu cầu Facebook có hành động rõ ràng và cụ thể. Tuy vậy, ông chủ Facebook lại chẳng có động tĩnh gì để ngăn chặn những phát ngôn thù địch hay chủ nghĩa da trắng thượng đẳng trên nền tảng mạng xã hội của mình.',\n",
       "  'Một trong số các vi phạm của Zuckerberg hiện nay là cách tiếp cận vô cảm trong vấn đề bảo vệ nhóm yếu thế và cộng đồng bị lãng quên.',\n",
       "  'Chẳng hạn, năm 2016, Facebook không thèm đoái hoài đến những khuyến nghị để ngăn chặn quảng cáo phân biệt chủng tộc tại Mỹ. Các nhà khoa học, trong nghiên cứu công bố hồi tháng 4 vừa rồi, chỉ ra rằng dù người chạy quảng cáo có hướng tới đối tượng khách hàng nào đi chăng nữa thì hệ thống quảng cáo Facebook cũng tự động phân biệt chủng tộc và phân biệt giới tính.',\n",
       "  'Hiện nay, nền tảng này phải đối mặt với hàng loạt các vụ kiện tụng, đồng thời phải dàn xếp các khoản bồi thường vì để xuất hiện những quảng cáo phân biệt chủng tộc.',\n",
       "  'Và nếu không phải vì vụ xả súng đẫm máu ở New Zealand làm 50 người thiệt mạng do một kẻ sùng bái chủ nghĩa da trắng thực hiện hồi tháng 3 vừa rồi, Facebook có lẽ sẽ vẫn chẳng có động thái quyết liệt nào để ngăn chặn nạn phân biệt chủng tộc.',\n",
       "  'Cần phải nói thêm, trong vụ xả súng ở New Zealand, kẻ thủ ác đã sử dụng Facebook để livestream và sử dụng mạng xã hội này như một công cụ để tuyên truyền sự hận thù. Đáng buồn là clip xả súng được lan truyền với tốc độ chóng mặt và tồn tại nhiều ngày sau đó mặc cho chính sách cấm các hình ảnh bạo lực và phát ngôn thù hận xuất hiện trên Facebook.',\n",
       "  'Cứ sai rồi xin lỗi',\n",
       "  'Năm 2018, một liên minh bao gồm 78 nhóm hoạt động vì quyền xã hội, các công ty đầu tư có tầm ảnh hưởng, các nhà đầu tư, và tổ chức Open MIC của tôi bày tỏ lo ngại rằng Facebook đã không giữ vững trách nhiệm thực hiện đánh giá ảnh hưởng nhân quyền trong hoạt động kinh doanh được, theo quy ước của Liên Hợp Quốc. Vụ việc cổ súy thù địch đối với người Rohingya ở Myanmar là ví dụ điển hình.',\n",
       "  'Báo cáo mới đây về nhân quyền của Liên Hợp Quốc nhấn mạnh: “Facebook là một công cụ đắc lực để lan truyền tư tưởng thù địch. Phản hồi từ phía Facebook về vấn đề này rất chậm và không hề hiệu quả. Đồng thời, Facebook cũng không thể cung cấp dữ liệu cụ thể theo quốc gia để đánh giá về sự lan truyền của ngôn từ thù địch, kích động trên nền tảng”.',\n",
       "  'Một điều tra viên của Liên Hợp Quốc miêu tả hành động của Facebook là “bị động” và “tối giản”, đồng thời cho rằng Facebook thay vì ngăn chặn mối nguy từ đầu thì chọn cách để sự việc xảy ra rồi mới xin lỗi.',\n",
       "  'Facebook cần một sự điều hành có tầm nhìn, độc lập, minh bạch và có trách nhiệm trong dài hạn. Công ty cần một lãnh đạo tối cao mới.',\n",
       "  'Trên mục Xã luận của báo ',\n",
       "  'New York Times',\n",
       "  ', rất nhiều chuyên gia cho rằng việc dung túng cho nội dung xấu là chủ trương kinh doanh của Facebook. Doanh thu chủ yếu của nền tảng này đến từ quảng cáo và những nội dung nào hút càng nhiều lượt người tương tác hay chia sẻ thì sẽ càng được ưu tiên.',\n",
       "  'Tháng 4 vừa rồi, phát ngôn viên Ruchika Budhraja của Facebook chia sẻ với tạp chí Mother Jones rằng “hệ quả trong dài hạn của những nội dung thù địch là giảm lợi nhuận”. Trong khi đó, cuộc sống của chúng ta đang bị đe dọa.',\n",
       "  'Zuckerberg đều xin lỗi sau mỗi vụ bê bối. Không một lời xin lỗi nào đáng tin.',\n",
       "  'Trách nhiệm của Facebook vẫn còn đó. Nếu muốn tiếp tục là nền tảng mạng xã hội có ảnh hưởng đến hàng tỷ người trên thế giới, Facebook cần một sự điều hành có tầm nhìn, độc lập, minh bạch và có trách nhiệm trong dài hạn. Công ty cần một lãnh đạo tối cao mới.',\n",
       "  'Đáng buồn thay, chúng ta không thể trông chờ những điều này từ Mark Zuckerberg.',\n",
       "  'Michael Connor',\n",
       "  'Biên dịch: Nguyễn Bình Illustration: Nhân Lê'],\n",
       " ['Niềm tin vào giáo dục của người dân đang bị bào mòn sau những vụ việc tiêu cực của ngành này liên tiếp xảy trong một thời gian ngắn.',\n",
       "  'Tháng 7/2018, sau kỳ thi THPT Quốc gia gần một tháng và chỉ 1-2 ngày sau khi Bộ GD&ĐT công bố điểm thi, việc gian lận, nâng điểm trong kỳ thi đã nhanh chóng được phát hiện.',\n",
       "  'Gần một năm sau khi khởi tố vụ án và bắt tạm giam những người có liên quan, thời điểm mà kỳ thi THPT cấp Quốc gia năm 2019 cũng sắp đến cận kề, cơ quan chức năng mới bắt đầu hé mở những thông tin về kết quả điều tra. Những kết quả điều tra ban đầu được thông tin trên báo chí với sự thận trọng, chừng mực và hết sức dè dặt liên quan đến đối tượng tham gia “mua điểm”.',\n",
       "  'Đây là thời điểm mà cả người lớn lẫn người trẻ đều cần dũng cảm soi rọi lại chính mình. Điều đó là vô cùng cần thiết giữa cơn khủng hoảng niềm tin trong xã hội hiện nay.',\n",
       "  'Khủng hoảng niềm tin về công tác giáo dục, về cơ quan công quyền, về đạo đức lối sống của đội ngũ cán bộ lãnh đạo, công chức viên chức, những người có thẩm quyền, trách nhiệm trong thực thi bảo vệ pháp luật và cải cách giáo dục. Và cả khủng hoảng niềm tin vào thế hệ trẻ, rường cột tương lai của nước nhà với trí tuệ, sức bật, giỏi giang, độc lập, không dựa dẫm, ỷ lại.',\n",
       "  'Người lớn cần sửa sai trước khi hô hào cải cách',\n",
       "  'Người lớn có trách nhiệm gì và cần phải làm gì tiếp theo thì đã rõ ràng.',\n",
       "  'Kỳ họp 7 của Quốc hội sắp đến gần, kỳ thi THPT quốc gia cũng đã cận kề. Ngoài nội dung chương trình kỳ họp lần này, Quốc hội và các đại biểu cần dành nhiều thời gian để tham gia cho ý kiến về dự thảo Luật Giáo dục sửa đổi; để nghiên cứu, lắng nghe các báo cáo của Bộ GD&ĐT, thảo luận, bàn sâu về thực trạng và giải pháp để tháo gỡ những hạn chế yếu kém mà ngành giáo dục đang phải đối mặt.',\n",
       "  'Muốn vậy, Bộ GD&ĐT cần phải có một báo cáo giải trình riêng về nội dung liên quan đến gian lận thi cử trước Quốc hội. Trong đó nêu rõ quan điểm, phản ánh đầy đủ, trung thực các vụ việc đã xảy ra. Đồng thời, nêu rõ trách nhiệm của người đứng đầu ở địa phương và của ngành trong các vụ bê bối đã xảy ra vừa qua.',\n",
       "  'Ngành giáo dục cần xem đó là sự dũng cảm soi rọi vào chính mình, nhìn thẳng sự thật, chấp nhận sự thật và giải quyết những yếu kém ấy trước khi bàn luận chuyên sâu về vấn đề cải cách.',\n",
       "  'Nếu nhân đạo với những học sinh \"mua điểm\", thì ai sẽ nhân đạo với những thí sinh bị mất đi cơ hội mà đáng lẽ được hưởng?',\n",
       "  'Hãy nhìn phản ứng của dư luận xã hội và cảm xúc của người dân những ngày qua, làm sao có thể không công khai danh tính của các thí sinh vì lý do nhân văn? Nếu nhân đạo với những học sinh này, thì ai sẽ nhân đạo với những thí sinh bị mất đi cơ hội mà đáng lẽ được hưởng?',\n",
       "  'Việc công khai này không hề xóa đi cơ hội của các em, mà nó giúp các em trở lại là chính mình, học lại từ đầu bằng bài học về thái độ, cách ứng xử, tư duy độc lập trong cuộc sống, không phụ thuộc, ỷ lại, cậy nhờ.',\n",
       "  'Tháng 10/2018, Bộ GD&ĐT Hàn Quốc yêu cầu hủy thư mời nhập học và kết quả tốt nghiệp của hai sao Hàn vì gian lận điểm số. Đến tháng 1/2019, có thêm 7 sao K-Pop bị hủy bằng đại học.',\n",
       "  'Ở một đất nước mà kỳ thi đại học nghiêm túc và gắt gao nhất thế giới, sự việc này khó có thể chấp nhận. Không chỉ có các sinh viên - vốn là người nổi tiếng - phải chịu hậu quả, các giáo sư và giảng viên liên quan cũng phải nhận hình phạt.',\n",
       "  'Một số nghệ sĩ lên tiếng xin lỗi, nói rằng “không cố tình gian lận” hoặc “vô tình gian lận”. Còn cư dân mạng Hàn Quốc lên án kịch liệt và kêu gọi tẩy chay các nghệ sĩ này; một số cho rằng tước bằng đại học chưa đủ để trả giá cho sự lừa dối của các nghệ sĩ với bạn học và với người hâm mộ.',\n",
       "  'Người trẻ trả lại những đặc quyền không thuộc về mình',\n",
       "  'Câu hỏi phức tạp hơn xoay quanh trách nhiệm của người trẻ trong bê bối điểm thi.',\n",
       "  'Trong danh sách thí sinh được nâng điểm tại kỳ thi THPT năm 2018 ở 3 tỉnh Sơn La, Hòa Bình, Hà Giang, có không ít con cháu các vị lãnh đạo trong tỉnh, ở các sở, ngành hoặc là con cháu của những cán bộ trực tiếp thực hiện các khâu trọng yếu trong kỳ thi. Số còn lại là con của các gia đình có điều kiện kinh tế khá giả, giàu có ở địa phương.',\n",
       "  'Những thí sinh đứng đầu bảng mới ngày nào còn rạng rỡ trong lễ vinh danh khen thưởng các thí sinh đạt thủ khoa, á khoa đầu vào đại học, mới ngày nào còn tự hào chia sẻ bí quyết học tập với bạn bè, bỗng một ngày có tên trong danh sách minh chứng cho sức mạnh của tiền - quyền.',\n",
       "  'Những ai có tên trong danh sách sai phạm này, vô tình hay cố ý, cũng cần xác định mình phải chịu trách nhiệm',\n",
       "  'Có thể trong số ấy, một vài em sẽ ngơ ngác tự hỏi chuyện gì đang xảy ra, bởi thực tế có những thí sinh học lực khá tốt nhưng vì sĩ diện của cha mẹ mà một vài điểm đã được nâng cho các em như một món trang sức đánh bóng hão huyền.',\n",
       "  'Một vài em, có lẽ đã biết trước kết cục khi vụ án bị khởi tố nhưng không đủ can đảm đối diện ngay sự thật, chỉ đến khi cái tên cha mẹ đặt cho nổi sáng trên truyền thông và mạng xã hội, còn tương lai cha mẹ đặt cho đã tối đen sắp chìm thì mới nghĩ đến việc dừng lại. Những trường hợp này, dẫu muộn, vẫn có thể được cảm thông, chia sẻ.',\n",
       "  'Nhưng cũng trong số ấy, lại có những em biết rõ mình không đủ năng lực, biết rõ xuất phát điểm của mình là do gian dối mà vẫn nuôi ảo vọng “con vua thì lại làm vua”. Họ nhẫn tâm đặt niềm tin vào sự che chắn, bao trùm của cái bóng tiền - quyền đầy dối trá.',\n",
       "  'Một thí sinh được nâng hàng chục điểm trở thành thủ khoa của một trường sư phạm được vinh danh rạng rỡ, vẫn tự hào chia sẻ bí quyết học tài thi tốt, vẫn bày tỏ nỗi tâm tư trăn trở trước sự cố gian lận điểm thi ở địa phương như thể mình vô can, thì chỉ có khả năng che giấu đến thượng thừa mới làm được mà thôi.',\n",
       "  'Giáo dục mang tính nhân văn mà dùng quyền và tiền cướp đi cơ hội của bao người xứng đáng, lại tỏ vẻ vô can, thì chẳng còn gì để nói.',\n",
       "  'Dẫu biết trước khi có kết luận cuối cùng của cơ quan điều tra, những thí sinh cũng chỉ là nạn nhân của căn bệnh thành tích và sính bằng cấp. Nhưng những ai có tên trong danh sách sai phạm này, vô tình hay cố ý, cũng cần xác định mình phải chịu trách nhiệm.',\n",
       "  'Thí sinh tham dự kỳ thi đều ở độ tuổi trưởng thành, có đủ năng lực, hành vi nhận biết nên các em hoàn toàn biết khả năng và kết quả bài mình làm đến đâu. Nhưng nếu vẫn tỏ ra tự hào với danh hiệu trong khi điểm thực của mình lại quá thấp, điều đó chỉ cho thấy chính các em cũng gian dối và là đồng phạm với những hành vi gian dối trong thi cử.',\n",
       "  'Có lẽ điều xã hội đang trông chờ lúc này là những thí sinh có tên trong danh sách sai phạm hãy dũng cảm từ chối những đặc quyền vốn chẳng thuộc về mình. Bằng tốt nghiệp của một trường đại học danh giá sẽ chẳng có giá trị gì nếu đó là sản phẩm từ sự lừa dối ngay từ xuất phát điểm, càng không thể sánh với quá trình tiếp thu, rèn luyện tri thức trong hành trình làm người.',\n",
       "  'Giáo dục mang tính nhân văn mà dùng quyền và tiền cướp đi cơ hội của bao người xứng đáng, lại tỏ vẻ vô can, thì chẳng còn gì để nói.',\n",
       "  'Phạm Thị Minh Hiền',\n",
       "  'Illustration: Phượng Nguyễn'],\n",
       " ['Dinh dưỡng tinh thần cực kỳ quan trọng',\n",
       "  'Có mặt tại một buổi giao lưu tại TP.HCM với chủ đề “Không trẻ em nào bị bỏ lại phía sau”, TS. Bùi Trân Phượng phân tích, nếu cha mẹ để lỡ các dấu mốc trưởng thành quan trọng của con trẻ sẽ rất khó khăn để kết nối trở lại với các con; nếu trong suốt tuổi thơ đứa trẻ không làm cho phụ huynh đau đầu lần nào thì đó là một đứa trẻ không bình thường. Có thể tuổi vị thành niên là rất khó chịu cả với các bậc phụ huynh lẫn với trẻ, đây là khoảng thời gian quan trọng phát lộ dần con người thực của mỗi cá thể, nên bản thân cá thể đó cũng phải đối diện với những vấn đề mà mình không hiểu; mình không hiểu mình thì làm sao người khác hiểu mình?',\n",
       "  'Bà nói: “Nhưng thực sự thì độ tuổi vị thành niên rất thú vị. Cha mẹ đừng để lỡ các mốc quan trọng trong độ tuổi trưởng thành của một đứa trẻ, hãy kết nối với con. Con tôi đến khi trưởng thành, vẫn luôn nhớ tôi đã nói với nó: Con là người tự do, con sinh ra tự do và con được làm bất cứ điều gì con mong muốn”.',\n",
       "  'Đúc kết từ kinh nghiệm nhiều năm làm hiệu trưởng đại học Hoa Sen, sáng lập và là chủ tịch HĐQT NES Education, bà Phượng rất quan tâm đến nền giáo dục gia đình, đặc biệt là việc giáo dục đọc sách cho trẻ.',\n",
       "  'Bà chia sẻ, “trẻ em sinh ra vốn dĩ có lòng ham hiểu biết. Sách là nguồn cung cấp kiến thức rất tốt nên các cha mẹ hãy nuôi dưỡng lòng ham thích này của trẻ chứ đừng cản trở nó đã là tốt rồi. Xin lỗi quý vị, đừng lo đút cho con ăn tối ngày, làm như vậy nuôi con giống như nuôi… heo, chỉ cho con thức ăn vật chất, mong con tăng ký; khỏe mạnh về cơ thể nhưng đứa trẻ có thể èo uột về tinh thần”.',\n",
       "  'Bà Phượng nói: “Quý vị hãy hiểu rằng thức ăn tinh thần cũng quan trọng không kém thức ăn vật chất. Các cháu của tôi ở Hà Nội, mỗi lần tôi ra chơi, chúng đều hỏi: Lần này nội mang cho con sách gì? Nếu tôi có mang đồ ăn đặc sản miền Nam, thì chỉ có người lớn thích chứ không phải con trẻ”.',\n",
       "  'Tuy nhiên, để có thể làm cho con trẻ hiểu được kiến thức là quý báu, thì giáo dục gia đình phải rất chu đáo, các bậc cha mẹ cần dành rất nhiều thời gian cho con trẻ chứ không phải chỉ lo bận bịu tối ngày việc của mình và “bỏ đói” tinh thần các con.',\n",
       "  '“Đừng cố tình nhét vào tay con cuốn sách mà mình nghĩ là tốt. Cũng như đừng có cố tình cho uống sữa này, ăn thức ăn bổ dưỡng kia. Mỗi đứa trẻ có một “khẩu vị” vật chất và tinh thần khác nhau chứ không phải cha mẹ áp đặt là được. Phải coi thời gian giành cho con trẻ là vui vẻ, tự nguyện, thì trẻ mới cảm nhận được; chứ nếu chính các phụ huynh cũng coi việc chơi với trẻ, đọc sách cùng trẻ là cực hình thì đương nhiên về phía con trẻ cũng vậy” – T.S Bùi Trân Phượng cảnh báo.',\n",
       "  'Dịch giả Nguyễn Quốc Vương kể, cuốn sách đầu tiên con ông đọc là bằng tiếng Nhật vì bé sinh ra ở Nhật. Ngay trong đợt khám sức khỏe lần đầu tiên tại trung tâm phúc lợi, vào lúc bé 3 tháng tuổi, bé được gặp 3 người. Một là bác sĩ khám sức khỏe tổng quát cho bé, hai là chuyên gia dinh dưỡng cho những lời khuyên về chế độ ăn dặm của bé, người thứ ba là nhân viên thư viện, hướng dẫn cha mẹ về việc tầm quan trọng của việc đọc sách, khuyên cho bé đọc những loại sách gì cho tới 6 tuổi, tặng cho bé một cuốn sách bằng hình ảnh, dành cho trẻ chưa biết chữ.',\n",
       "  '\"Trẻ em sinh ra vốn dĩ có lòng ham hiểu biết. Sách là nguồn cung cấp kiến thức rất tốt\". Ảnh minh họa: VOV',\n",
       "  'Ông Vương nói: “Ban đầu tôi nghĩ tại sao lại đọc sớm thế? Ngay như tôi trưởng thành trong một gia đình có cả thư viện lớn nhưng bố tôi cũng chỉ cho tôi đọc sách khi đã biết chữ. Nhưng chỉ sau 1 tuần đọc cuốn sách đó, bé đã tương tác rất tốt với cuốn sách này. Đó cũng là cuốn sách bé thích nhất, mặc dù sau này bé đọc rất nhiều cuốn sách khác”.',\n",
       "  '“Khi sinh con thứ hai, chúng tôi đã có kinh nghiệm hơn nên đọc sách hàng ngày cho con nghe từ lúc còn trong bụng mẹ. Cho đến giờ con thứ nhất của tôi 4 tuổi, con thứ 2 tròn 18 tháng và cả hai đều rất say sưa đọc sách. Hình phạt trong gia đình tôi nếu bé không ngoan thì sẽ không được đọc sách nữa” – ông Nguyễn Quốc Vương chia sẻ thêm.',\n",
       "  'Đau đầu với môn giáo dục công dân',\n",
       "  'Mở rộng hơn về vấn đề giáo dục công dân, dịch giả Nguyễn Quốc Vương lưu ý: “Chắc chắn quý vị còn nhớ hồi đi học, môn mà nhiều học sinh ghét nhất chính là môn giáo dục công dân. Các thầy cô giáo dậy môn này thường là không có chuyên môn gì hoặc chuyên môn kém không dậy được các môn khác. Đó là điều sai lầm tệ hại. Bởi vì giáo dục công dân lẽ ra là một môn học cực kỳ quan trọng”.',\n",
       "  'Ông Vương tin rằng, “có những người rất tốt trong gia đình họ, nhưng khi bước ra xã hội lại là những công dân tồi. Cũng có những người ở môi trường tốt thì tốt mà rơi vào môi trường xấu sẽ thành xấu. Rất nhiều người có thể là công dân tốt trong tất cả mọi bối cảnh nhưng có những người khác lại chỉ tốt trong từng bối cảnh. Đó là vì cảm quan công dân của từng người mạnh yếu khác nhau. Khi một con người có cảm quan công dân tốt, sẽ cân nhắc xem mình đang ở đâu, nếu hành xử như thế này trong không gian công cộng, ngoài không gian riêng tư của mình thì có trách nhiệm hay không?”',\n",
       "  'Vấn đề mà dịch giả Nguyễn Quốc Vương nhắc tới có liên quan đến những tệ nạn tràn lan, chẳng hạn như cứ sau mỗi lễ hội thì lượng rác thải ra rất nhiều, ngay trong thang máy có camera vẫn nhiều người có hành vi xâm hại trẻ em gái và phụ nữ; hoặc hiện tượng thầy giáo xâm hại tình dục học sinh.',\n",
       "  'Đánh giá mỗi con người cá thể, mỗi gia đình cần xem xét tổng hòa các mối quan hệ với xã hội, ông Vương nhấn mạnh: “Nếu con cái chúng ta có cảm quan công dân tốt, chúng sẽ có trách nhiệm công dân và sẽ lựa chọn những hành vi tốt cho mình, tốt cho cộng đồng và xã hội, loại trừ những hành vi xấu. Tất cả những cảm quan công dân này đều phải được giáo dục từ rất sớm, trong nhà trường, và đó chính là môn giáo dục công dân, trong mối tương quan gia đình – nhà trường – xã hội”.',\n",
       "  'Hòa Bình'],\n",
       " ['1.',\n",
       "  'Khu vườn rộng 180 ha, là tài sản thuộc \"sở hữu toàn dân\", được chăm sóc cẩn thận cho dân nghỉ dưỡng thoải mái.',\n",
       "  'Chủ nhật ở Sceaux, cả thành phố cùng chạy hoặc đi bộ, tùy sức. Họ chạy trên phố, chạy về công viên. Lề đường bên ngoài parc, xe hơi đậu kín mít dài cả cây số. Parc de Sceaux không chỉ của người dân Sceaux, Antony, Bourg la Reine hay Chatenay Malabry. Người dân Paris cuối tuần cũng đến. Có một doanh nhân lớn tuổi ở quận 14 nói với chúng tôi: \"Tuần nào vợ chồng tôi cũng đến parc cho con chó chạy đỡ quẩn chân!\".',\n",
       "  'Lữ quán Ravoux, trạm dừng 70 ngày cuối đời của Van Gogh',\n",
       "  'Toàn dân là vậy đó, người có của, người thu nhập thấp, cả con chó nữa chứ không chỉ riêng người giàu.',\n",
       "  'Parc có lâu đài, có con kênh lớn, có vườn hoa anh đào Nhật rộng cả hecta. Mỗi mùa hoa nở, dân khắp nơi và cả du khách kéo đến cắm trại, thưởng hoa.',\n",
       "  'Parc là thảm cỏ rộng mênh mông không cấm dân lên ngồi, nằm, picnic. Parc là những khoảng rừng nhỏ với cổ thụ, cây dại hoang sơ, là khu vui chơi cho trẻ, là không gian của marathon, của xe đạp thể thao, là nơi tắm nắng, là điểm của những cặp tình nhân trẻ có, già có ngồi tâm tình, ngắm đàn thiên nga, vịt cồ bơi lội; và... parc cũng là nơi dạo bước của những chú chó kiểng đủ loại, đủ thứ giống.',\n",
       "  'Các lối đi trải đá sạn nhỏ, có những đường mòn để trơ đất bùn hoặc phủ dăm bào cho thật gần với thiên nhiên.',\n",
       "  'Parc không chỉ có thảm cỏ cắt tỉa và vườn rừng bát ngát mà còn những khu rừng thấp với bụi rậm, hoa dại được cố ý duy trì khắp nơi để giảm sắc màu nhân tạo càng nhiều càng tốt. Như vậy đó, thiên nhiên gắn liền cuộc sống thay vì cứ bị bê-tông hóa. Cuộc sống hòa hợp với thiên nhiên, vậy mới đáng sống.',\n",
       "  'Tôi thấy rõ điều này ở công quốc Luxembourg, ở Hà Lan, ở Metz, ở Rodemack, ở Eguisheim, ở Sarlat, ở Provence, ở Maroc, ở Bénin...',\n",
       "  'Đi cả buổi sáng mới chỉ 1/10 parc. Nhìn parc, chợt nghĩ nếu nó ở xứ ta, chắc đã biến thành những khu biệt thự nhà ở cao cấp, những trung tâm thương mại hoành tráng, những khu nghỉ dưỡng 5 sao...',\n",
       "  'Và khi đó người dân chẳng có phổi để thở, chẳng có chỗ để chạy, để picnic. Dân vô parc nào cũng phải trả tiền. Vài parc nhỏ như Tao Đàn vừa nhân tạo, mất nét thiên nhiên vừa khiêm tốn so với 10 triệu dân, chỉ đáng coi là công viên của một vài phường lân cận. Còn Thảo Cầm Viên Sài Gòn thì cây ngày càng thưa, cỏ ngày càng mỏng, mùi đất nồng nàn khuất xa vào quá khứ vì bị xi-măng hóa, diện tích đã nhỏ còn bị cắt bớt làm bãi cho thuê để đậu ôtô và hàng quán lều chòi ăn uống thì mọc khắp nơi trong cái khoảnh đất gọi là vườn của chim của cỏ nhỏ xíu!',\n",
       "  'Một ngày chủ nhật ở Parc de Sceaux',\n",
       "  '2.',\n",
       "  '\"Một ngày hoặc một ngày nào khác anh tin rằng anh sẽ tìm ra cách để mở cho mình một cuộc triển lãm trong một quán cà phê\".',\n",
       "  'Hơn bất cứ điều gì, những dòng này của Vincent Van Gogh gửi cho người em Théodore Van Gogh ngày 10-6-1890, còn in trên tường căn phòng 7 m² tồi tàn mang con số 5 phía sau lữ quán Ravoux, không bao giờ bị quên lãng.',\n",
       "  'Đó là tiếng thở dài của quá khứ trăm năm mà ngay lần đầu gặp, nó đã không thôi ám ảnh tôi kể từ chuyến viếng thăm tình cờ ngôi làng huyền thoại mến khách Auvers sur Oise.',\n",
       "  'Đó chỉ là một ngôi làng nhỏ cách ngoại ô Paris 38 km, có một lâu đài không mấy nổi tiếng, có ngọn đồi cao, ngôi nhà thờ nhỏ. Vậy thôi. Ngôi làng khá lặng lẽ.',\n",
       "  '70 ngày trước khi tự tử ở Auvers, người bất tử đã tạo ra 80 tranh. Một vài trong số đó được dùng trang trí trong tang lễ của ông. Nhưng không bức nào đem lại cho ông một cuộc sống tự lực, nếu không có nguồn trợ cấp của Théodore.',\n",
       "  'Nhà thờ Notre Dame của Auvers sur Oise, tòa thị chính, những bậc thang và các cô gái quê, cánh đồng lúa mì và những con quạ đen, sống mãi với lời tự sự gửi Théo tháng 6-1890: \"Lúa mì trải dài bát ngát và anh không bị phiền phức gì trong việc tìm cách thể hiện nỗi buồn và niềm cô đơn cực độ\".',\n",
       "  'Tôi không mệt mỏi khi theo những bước chân của Van Gogh đến tận nghĩa trang hôm 11-9-2015. Nơi ông và người em Théo an nghỉ dưới thảm lá hoa xanh kết nối 2 nấm mồ. Thương anh quá, mấy tháng sau Théo từ trần, vợ Théo quyết định chuyển thi hài ông từ Hà Lan sang Auvers để đời đời anh em sum họp.',\n",
       "  'Thương người họa sĩ lang thang nghèo nàn suốt kiếp, du khách ngày càng đổ về đông. Họ không chỉ đến \"nhà của Van Gogh\" - lữ quán Ravoux - mà nhiều đoàn xe du lịch mang biển số đủ mọi quốc tịch châu Âu, đến thẳng mộ ông. Tôi thấy du khách Trung Quốc đông nhất; Hàn, Nhật kế tiếp và nhiều đoàn học sinh cỡ cấp 2 của Pháp, du khách Canada, Mỹ...; du khách Việt lần trước chỉ có tôi và con trai, lần thứ hai với gia đình thông gia, lần ba cùng vợ con và cô em dâu, lần thứ tư với ba ông bạn già trong chiều rất muộn từ Giverny về, không còn du khách Việt nào khác. Họ đang bận rộn ở đại lộ Haussman, ở Printemps, Lafayette.',\n",
       "  'Thử tưởng tượng nếu không có Van Gogh dừng bước lãng du 2 tháng ở đây rồi lặng lẽ ra đi, chỉ có người em trai kịp đến bên cạnh và người bạn già bác sĩ Gachet, Auvers sur Oise có lẽ mãi là một làng quê bé tí vô danh, không thể được biết đến ở tầm quốc tế như ngày nay.',\n",
       "  'Trong một thư khác, Van Gogh nói với em về Auvers: \"Nơi đây có đủ sắc màu, cảnh vật đã được sắp xếp sẵn giờ đây anh chỉ cần thời gian để đưa chúng vào tranh\".',\n",
       "  'Và, người lang thang vẽ rong Van Gogh, 37 năm trong cuộc đời thay đổi 38 chỗ ở, để lại những dấu chân trên khắp nẻo đường Auvers, hậu thế bèn tạo ra những miếng plaque tròn bằng đồng trên có khắc chữ Vincent để chỉ rõ: Đây là những nẻo đường chàng họa sĩ nghèo từng đi qua để biến Auvers thành bất tử. Vậy đó, Van Gogh đã hoàn thành mỹ mãn bút pháp của riêng mình ở Auvers và cho Auvers sur Oise.',\n",
       "  'Xóa lữ quán Ravoux và những công trình dân dụng lân cận đủ để xây nên một đô thị hiện đại cho nhà giàu mới hốt tiền tỉ. Bôi đen công viên có tượng Van Gogh trên bản đồ, thay vào đó một tháp thương mại 50-60 tầng. Van Gogh chỉ là một ông Tây ba-lô thôi mà! Nhà thờ trong tranh đã cũ. Hãy gán cho nó cái tội \"không sửa được\" hoặc sửa sẽ tốn kém gấp bội lần xây mới, thế là sẽ có ngôi nhà thờ bê-tông cốt thép hiện đại, rực rỡ sắc màu, tha hồ hãnh diện.',\n",
       "  'Nhưng, người Auvers kiên quyết không làm vậy dù núp dưới lý do chính đáng \"phát triển kinh tế\". Cái gì đã vào tranh của Van Gogh, cái đó được giữ bất biến, kể cả những ngôi nhà phố cổ xưa. Không phải chính quyền biết sợ dân mà thật ra họ có bản lĩnh văn hóa và học thức thật sự nên họ không bao giờ muốn làm vậy. Họ hiểu cả ngàn đô thị hiện đại không bằng ngôi làng cũ kỹ. Chắc vậy thôi!',\n",
       "  'Trên những bước chân Van Gogh hôm nay đầy ắp những nụ cười tự hào luôn nở trên môi người Auvers và những giải thích, hướng dẫn tận tình, khi gặp khách lạ.',\n",
       "  'Tôi tin rằng tôi sẽ còn trở lại, một mình hoặc hướng dẫn ai đó có cùng ý thích với những cánh đồng lúa mì, với những bậc thang dẫn lên ngôi nhà thờ mà, hơn trăm năm rồi vẫn được nâng niu như báu vật.',\n",
       "  'Viết tại vườn Luxembourg, trưa 7-5-2019',\n",
       "  ' Bài và ảnh: THẨM TUYÊN ']]"
      ]
     },
     "execution_count": 41,
     "metadata": {},
     "output_type": "execute_result"
    }
   ],
   "source": [
    "#put body into a list\n",
    "body_preprocessing = []\n",
    "for i in data.body:\n",
    "    body_preprocessing.append(i)\n",
    "body_preprocessing[:5]"
   ]
  },
  {
   "cell_type": "code",
   "execution_count": 42,
   "id": "d180b852-2903-4eed-b971-4b1917767456",
   "metadata": {
    "collapsed": true,
    "jupyter": {
     "outputs_hidden": true
    },
    "tags": []
   },
   "outputs": [
    {
     "data": {
      "text/plain": [
       "['ma túy trên ôtô. ảnh: hải quan tp hcm. vào ngày 11/5, cơ quan chức năng đã tiến hành triệt phá một đường dây ma túy “khủng”. cụ thể các lực lượng của cục trưởng cục cảnh sát điều tra tội phạm về ma túy-bộ công an (c04), cục hải quan tphcm, tiểu đoàn cảnh sát đặc nhiệm số 2, công an tphcm, công an tỉnh bình dương… chia nhiều mũi, đồng loạt khám xét các kho hàng tại xã vĩnh lộc a (huyện bình chánh) và một số địa điểm ở các quận tân phú, tân bình.... tại các địa điểm nay, nhà chức trách phát hiện khoảng 500 kg ma túy tổng hợp ketamin trên ôtô 7 chỗ và nhiều tang vật khác. lực lượng chức năng cũng tiến hành giữ đối tượng liu ming yang (34 tuổi), jhu minh jyun (32 tuổi) và nguyễn thị thu vân (36 tuổi, cùng quốc tịch đài loan); tô gia mỹ (33 tuổi, quốc tịch trung quốc). theo cơ quan chức năng, đây là đường dây vận chuyển trái phép chất ma túy (ketamine) có số lượng lớn nhất từ trước đến nay về việt nam để tuồn ra nước ngoài tiêu thụ. số ma túy này có giá trị ước tính lên đến gần 500 tỷ đồng. đường dây do đối tượng người đài loan (trung quốc) cầm đầu. đối tượng cầm đầu liu ming yang (34 tuổi, người đài loan) thường xuyên nhập cảnh vào việt nam để tổ chức điều hành, chỉ đạo đàn em thực hiện vận chuyển trái phép chất ma túy. số ma túy bị công an thu giữ. ảnh văn minh \"ông trùm\" ma túy chỉ đạo đàn em jhu minh jyun (32 tuổi, người đài loan) nhập cảnh vào việt nam. đến khu vực cửa khẩu móng cái (quảng ninh) nhận 4 máy ép bao bì và ma túy. sau đó đưa lên xe ô tô vận chuyển vào tphcm (vượt quảng đường gần 2000km). thiếu tướng phạm văn các, cục trưởng cục trưởng cảnh sát điều tra tội phạm về ma túy cho biết, thủ đoạn của các đối tượng trong đường dây ma túy này hết sức tinh vi. đối tượng jhu minh jyun (32 tuổi) bị công an bắt. ảnh văn minh “các đối tượng đưa ma túy lên xe giao hàng, giả như xe giao hàng cho siêu thị, dừng gần siêu thị để từ đó đồng bọn đến lái xe, mang ma túy đi tiếp”, thiếu tướng các nói và cho biết thêm, bằng thủ đoạn này mà các đối tượng đã vận chuyển hơn 500kg ma túy qua quảng đường dài gần 2000km. ông huỳnh nam, đội trưởng đội kiểm soát phòng, chống ma túy (cục hải quan tphcm) cho biết, các đối tượng liên lạc với nhau bằng những thiết bị hết sức hiện đại như qua các thiết bị vệ tinh. thường xuyên thay đổi kho chứa ma túy khiến việc đeo bám theo dõi của lực lượng chức năng gặp khó khăn.  ông huỳnh nam, đội trưởng đội kiểm soát phòng, chống ma túy (cục hải quan tphcm). clip văn minh theo ông nam, sau nhiều vụ án ma túy bị triệt phá, các đối tượng ma túy đã chuyển sang hình thức vận chuyển chất lỏng, giấu vào các loại máy móc để qua mặt cơ quan chức năng. từ đó, số ma túy tập kết tại tphcm và được đưa đi xuất lậu qua nước thứ 3 theo ý đồ của các đối tượng. văn minh',\n",
       " 'cách đây hơn một năm, tôi từng kêu gọi mark zuckerberg, chủ tịch hội đồng quản trị kiêm ceo của facebook, nên từ chức hoặc bị sa thải. dù facebook đã hứng chịu rất nhiều chỉ trích, nhiều người vào thời điểm đó vẫn cho rằng đòi hỏi zuckerberg từ chức là khắt khe. ông chủ facebook vẫn được tin tưởng sẽ có thể đưa ra những giải pháp đúng đắn để giải quyết triệt để mọi vấn đề. một năm trôi qua với biết bao thay đổi. giờ đây mọi chuyện trở nên sáng tỏ hơn với nhiều người trên toàn thế giới. thất bại lớn nhất của facebook sở hữu hơn 58% cổ phiếu có quyền biểu quyết, zuckerberg nắm giữ những vị trí trọng yếu nhất và thâu tóm hết quyền lực vào tay. ông chủ facebook ở trong vị thế không thể bị khuất phục, có thể phủi tay trước mọi trách nhiệm mặc cho đòi hỏi càng cao từ phía cổ đông, các nhóm hoạt động nhân quyền, nhà chức trách cũng như người dùng facebook toàn cầu trong việc giải quyết tận gốc những vấn đề mạng xã hội này gây ra đối với toàn xã hội. bản thân tôi không nắm giữ bất kỳ cổ phần nào của facebook. chúng tôi luôn tin rằng mark zuckerberg thiếu phẩm chất lãnh đạo cần thiết để chèo chống và chịu trách nhiệm cho một nền tảng truyền thông toàn cầu với 2,8 tỷ người dùng toàn cầu như facebook. thất bại lớn nhất của facebook chính là ông chủ của mình và đã đến lúc zuckerberg thoái lui. facebook rơi vào khủng hoảng này đến khủng hoảng khác, và đó là hậu quả từ cách điều hành của zuckerberg. liên tục đưa tin về những thất bại lẫn bê bối của facebook, báo chí, truyền thông giờ đây ngày càng tìm được đồng thuận: thất bại lớn nhất của facebook chính là ông chủ của mình và đã đến lúc zuckerberg thoái lui. câu chuyện đó là hợp lý khi zuckerberg quá rõ ràng đã thất bại trong việc đối mặt với các rủi ro tài chính, pháp lý, quy định, và uy tín. các nhà đầu tư bị che mắt về những cuộc tranh cãi liên tiếp. điều này đã gây tổn hại nghiêm trọng giá trị của cổ đông, làm giảm khả năng giám sát hoạt động công ty, và đe dọa sự lành mạnh của xã hội. nhiều nhà đầu tư bày tỏ sự bất hợp tác của mình. năm 2018, hơn một phần ba (35%) cổ đông phổ thông không ủng hộ để mark zuckerberg tiếp tục làm chủ tịch hội đồng quản trị. khi những yếu kém và sự bất lực của zuckerberg thu hút sự chú ý từ truyền thông, làm dấy lên nghi ngờ từ nhà các nhà quản lý đi kèm với yêu cầu nộp phạt từ các cơ quan luật pháp, ông chủ facebook trở thành gánh nặng của chính công ty mình. vô cảm với nhóm yếu thế dưới sự điều hành của zuckerberg, facebook đã và đang phải đối mặt với hàng loạt các cuộc điều tra và kiện tụng liên quan đến quyền riêng tư của người dùng hay mất mát dữ liệu. mới đây ủy ban thương mại liên bang mỹ cho biết nền tảng mạng xã hội này sẽ phải đối mặt với khoản tiền phạt kỷ lục lên đến 5 tỷ usd. tuy vậy, nhiều thượng nghị sĩ cho rằng khoản phạt này vẫn còn nhẹ và yêu cầu các cơ quan quản lý, ngoài pháp nhân facebook, nên cáo buộc zuckerberg là “cá nhân có lỗi và phải chịu trách nhiệm” cho những vi phạm liên tiếp, phải chịu đồng thời “hình phạt và nộp phạt”. một trong số các vi phạm của zuckerberg hiện nay là cách tiếp cận vô cảm trong vấn đề bảo vệ nhóm yếu thế và cộng đồng bị lãng quên. gần 10 năm qua, rất nhiều tổ chức đã vận động, yêu cầu facebook có hành động rõ ràng và cụ thể. tuy vậy, ông chủ facebook lại chẳng có động tĩnh gì để ngăn chặn những phát ngôn thù địch hay chủ nghĩa da trắng thượng đẳng trên nền tảng mạng xã hội của mình. một trong số các vi phạm của zuckerberg hiện nay là cách tiếp cận vô cảm trong vấn đề bảo vệ nhóm yếu thế và cộng đồng bị lãng quên. chẳng hạn, năm 2016, facebook không thèm đoái hoài đến những khuyến nghị để ngăn chặn quảng cáo phân biệt chủng tộc tại mỹ. các nhà khoa học, trong nghiên cứu công bố hồi tháng 4 vừa rồi, chỉ ra rằng dù người chạy quảng cáo có hướng tới đối tượng khách hàng nào đi chăng nữa thì hệ thống quảng cáo facebook cũng tự động phân biệt chủng tộc và phân biệt giới tính. hiện nay, nền tảng này phải đối mặt với hàng loạt các vụ kiện tụng, đồng thời phải dàn xếp các khoản bồi thường vì để xuất hiện những quảng cáo phân biệt chủng tộc. và nếu không phải vì vụ xả súng đẫm máu ở new zealand làm 50 người thiệt mạng do một kẻ sùng bái chủ nghĩa da trắng thực hiện hồi tháng 3 vừa rồi, facebook có lẽ sẽ vẫn chẳng có động thái quyết liệt nào để ngăn chặn nạn phân biệt chủng tộc. cần phải nói thêm, trong vụ xả súng ở new zealand, kẻ thủ ác đã sử dụng facebook để livestream và sử dụng mạng xã hội này như một công cụ để tuyên truyền sự hận thù. đáng buồn là clip xả súng được lan truyền với tốc độ chóng mặt và tồn tại nhiều ngày sau đó mặc cho chính sách cấm các hình ảnh bạo lực và phát ngôn thù hận xuất hiện trên facebook. cứ sai rồi xin lỗi năm 2018, một liên minh bao gồm 78 nhóm hoạt động vì quyền xã hội, các công ty đầu tư có tầm ảnh hưởng, các nhà đầu tư, và tổ chức open mic của tôi bày tỏ lo ngại rằng facebook đã không giữ vững trách nhiệm thực hiện đánh giá ảnh hưởng nhân quyền trong hoạt động kinh doanh được, theo quy ước của liên hợp quốc. vụ việc cổ súy thù địch đối với người rohingya ở myanmar là ví dụ điển hình. báo cáo mới đây về nhân quyền của liên hợp quốc nhấn mạnh: “facebook là một công cụ đắc lực để lan truyền tư tưởng thù địch. phản hồi từ phía facebook về vấn đề này rất chậm và không hề hiệu quả. đồng thời, facebook cũng không thể cung cấp dữ liệu cụ thể theo quốc gia để đánh giá về sự lan truyền của ngôn từ thù địch, kích động trên nền tảng”. một điều tra viên của liên hợp quốc miêu tả hành động của facebook là “bị động” và “tối giản”, đồng thời cho rằng facebook thay vì ngăn chặn mối nguy từ đầu thì chọn cách để sự việc xảy ra rồi mới xin lỗi. facebook cần một sự điều hành có tầm nhìn, độc lập, minh bạch và có trách nhiệm trong dài hạn. công ty cần một lãnh đạo tối cao mới. trên mục xã luận của báo  new york times , rất nhiều chuyên gia cho rằng việc dung túng cho nội dung xấu là chủ trương kinh doanh của facebook. doanh thu chủ yếu của nền tảng này đến từ quảng cáo và những nội dung nào hút càng nhiều lượt người tương tác hay chia sẻ thì sẽ càng được ưu tiên. tháng 4 vừa rồi, phát ngôn viên ruchika budhraja của facebook chia sẻ với tạp chí mother jones rằng “hệ quả trong dài hạn của những nội dung thù địch là giảm lợi nhuận”. trong khi đó, cuộc sống của chúng ta đang bị đe dọa. zuckerberg đều xin lỗi sau mỗi vụ bê bối. không một lời xin lỗi nào đáng tin. trách nhiệm của facebook vẫn còn đó. nếu muốn tiếp tục là nền tảng mạng xã hội có ảnh hưởng đến hàng tỷ người trên thế giới, facebook cần một sự điều hành có tầm nhìn, độc lập, minh bạch và có trách nhiệm trong dài hạn. công ty cần một lãnh đạo tối cao mới. đáng buồn thay, chúng ta không thể trông chờ những điều này từ mark zuckerberg. michael connor biên dịch: nguyễn bình illustration: nhân lê']"
      ]
     },
     "execution_count": 42,
     "metadata": {},
     "output_type": "execute_result"
    }
   ],
   "source": [
    "#remove '\\n' where applicable and lowercase all of the body-strings\n",
    "body_postprocessing =  ['' for i in range(len(body_preprocessing))]\n",
    "\n",
    "for i in range(len(body_preprocessing)):\n",
    "    for j in body_preprocessing[i]:\n",
    "        fst_trans = j.lower()\n",
    "        snd_trans = fst_trans.replace('\\n', ' ')\n",
    "        if j == body_preprocessing[i][0]:\n",
    "            body_postprocessing[i] += snd_trans\n",
    "        else:\n",
    "            body_postprocessing[i] += ' ' + snd_trans\n",
    "body_postprocessing[:2]"
   ]
  },
  {
   "cell_type": "code",
   "execution_count": 74,
   "id": "9541e8f8-fb1c-46d1-a958-906560f77c3d",
   "metadata": {
    "collapsed": true,
    "jupyter": {
     "outputs_hidden": true
    },
    "tags": []
   },
   "outputs": [
    {
     "data": {
      "text/plain": [
       "'Có mặt tại một buổi giao lưu tại TP.HCM với chủ đề “Không trẻ em nào bị bỏ lại phía sau”, TS. Bùi Trân Phượng phân tích, nếu cha mẹ để lỡ các dấu mốc trưởng thành quan trọng của con trẻ sẽ rất khó khăn để kết nối trở lại với các con; nếu trong suốt tuổi thơ đứa trẻ không làm cho phụ huynh đau đầu lần nào thì đó là một đứa trẻ không bình thường. Có thể tuổi vị thành niên là rất khó chịu cả với các bậc phụ huynh lẫn với trẻ, đây là khoảng thời gian quan trọng phát lộ dần con người thực của mỗi cá thể, nên bản thân cá thể đó cũng phải đối diện với những vấn đề mà mình không hiểu; mình không hiểu mình thì làm sao người khác hiểu mình?'"
      ]
     },
     "execution_count": 74,
     "metadata": {},
     "output_type": "execute_result"
    }
   ],
   "source": [
    "body_preprocessing[3][1]"
   ]
  },
  {
   "cell_type": "code",
   "execution_count": 75,
   "id": "aa53d1a5-8369-4944-857c-4cdd76441358",
   "metadata": {
    "collapsed": true,
    "jupyter": {
     "outputs_hidden": true
    },
    "tags": []
   },
   "outputs": [
    {
     "data": {
      "text/plain": [
       "['Cách đây hơn một năm, tôi từng kêu gọi Mark Zuckerberg, Chủ tịch Hội đồng Quản trị kiêm CEO của Facebook, nên từ chức hoặc bị sa thải.',\n",
       " 'Dù Facebook đã hứng chịu rất nhiều chỉ trích, nhiều người vào thời điểm đó vẫn cho rằng đòi hỏi Zuckerberg từ chức là khắt khe. Ông chủ Facebook vẫn được tin tưởng sẽ có thể đưa ra những giải pháp đúng đắn để giải quyết triệt để mọi vấn đề.',\n",
       " 'Một năm trôi qua với biết bao thay đổi. Giờ đây mọi chuyện trở nên sáng tỏ hơn với nhiều người trên toàn thế giới.',\n",
       " 'Thất bại lớn nhất của Facebook',\n",
       " 'Sở hữu hơn 58% cổ phiếu có quyền biểu quyết, Zuckerberg nắm giữ những vị trí trọng yếu nhất và thâu tóm hết quyền lực vào tay. Ông chủ Facebook ở trong vị thế không thể bị khuất phục, có thể phủi tay trước mọi trách nhiệm mặc cho đòi hỏi càng cao từ phía cổ đông, các nhóm hoạt động nhân quyền, nhà chức trách cũng như người dùng Facebook toàn cầu trong việc giải quyết tận gốc những vấn đề mạng xã hội này gây ra đối với toàn xã hội.',\n",
       " 'Bản thân tôi không nắm giữ bất kỳ cổ phần nào của Facebook. Chúng tôi luôn tin rằng Mark Zuckerberg thiếu phẩm chất lãnh đạo cần thiết để chèo chống và chịu trách nhiệm cho một nền tảng truyền thông toàn cầu với 2,8 tỷ người dùng toàn cầu như Facebook.',\n",
       " 'Thất bại lớn nhất của Facebook chính là ông chủ của mình và đã đến lúc Zuckerberg thoái lui.',\n",
       " 'Facebook rơi vào khủng hoảng này đến khủng hoảng khác, và đó là hậu quả từ cách điều hành của Zuckerberg. Liên tục đưa tin về những thất bại lẫn bê bối của Facebook, báo chí, truyền thông giờ đây ngày càng tìm được đồng thuận: Thất bại lớn nhất của Facebook chính là ông chủ của mình và đã đến lúc Zuckerberg thoái lui.',\n",
       " 'Câu chuyện đó là hợp lý khi Zuckerberg quá rõ ràng đã thất bại trong việc đối mặt với các rủi ro tài chính, pháp lý, quy định, và uy tín. Các nhà đầu tư bị che mắt về những cuộc tranh cãi liên tiếp. Điều này đã gây tổn hại nghiêm trọng giá trị của cổ đông, làm giảm khả năng giám sát hoạt động công ty, và đe dọa sự lành mạnh của xã hội.',\n",
       " 'Nhiều nhà đầu tư bày tỏ sự bất hợp tác của mình. Năm 2018, hơn một phần ba (35%) cổ đông phổ thông không ủng hộ để Mark Zuckerberg tiếp tục làm Chủ tịch Hội đồng quản trị.',\n",
       " 'Khi những yếu kém và sự bất lực của Zuckerberg thu hút sự chú ý từ truyền thông, làm dấy lên nghi ngờ từ nhà các nhà quản lý đi kèm với yêu cầu nộp phạt từ các cơ quan luật pháp, ông chủ Facebook trở thành gánh nặng của chính công ty mình.',\n",
       " 'Vô cảm với nhóm yếu thế',\n",
       " 'Dưới sự điều hành của Zuckerberg, Facebook đã và đang phải đối mặt với hàng loạt các cuộc điều tra và kiện tụng liên quan đến quyền riêng tư của người dùng hay mất mát dữ liệu.',\n",
       " 'Mới đây Ủy ban Thương mại Liên bang Mỹ cho biết nền tảng mạng xã hội này sẽ phải đối mặt với khoản tiền phạt kỷ lục lên đến 5 tỷ USD. Tuy vậy, nhiều Thượng nghị sĩ cho rằng khoản phạt này vẫn còn nhẹ và yêu cầu các cơ quan quản lý, ngoài pháp nhân Facebook, nên cáo buộc Zuckerberg là “cá nhân có lỗi và phải chịu trách nhiệm” cho những vi phạm liên tiếp, phải chịu đồng thời “hình phạt và nộp phạt”.',\n",
       " 'Một trong số các vi phạm của Zuckerberg hiện nay là cách tiếp cận vô cảm trong vấn đề bảo vệ nhóm yếu thế và cộng đồng bị lãng quên. Gần 10 năm qua, rất nhiều tổ chức đã vận động, yêu cầu Facebook có hành động rõ ràng và cụ thể. Tuy vậy, ông chủ Facebook lại chẳng có động tĩnh gì để ngăn chặn những phát ngôn thù địch hay chủ nghĩa da trắng thượng đẳng trên nền tảng mạng xã hội của mình.',\n",
       " 'Một trong số các vi phạm của Zuckerberg hiện nay là cách tiếp cận vô cảm trong vấn đề bảo vệ nhóm yếu thế và cộng đồng bị lãng quên.',\n",
       " 'Chẳng hạn, năm 2016, Facebook không thèm đoái hoài đến những khuyến nghị để ngăn chặn quảng cáo phân biệt chủng tộc tại Mỹ. Các nhà khoa học, trong nghiên cứu công bố hồi tháng 4 vừa rồi, chỉ ra rằng dù người chạy quảng cáo có hướng tới đối tượng khách hàng nào đi chăng nữa thì hệ thống quảng cáo Facebook cũng tự động phân biệt chủng tộc và phân biệt giới tính.',\n",
       " 'Hiện nay, nền tảng này phải đối mặt với hàng loạt các vụ kiện tụng, đồng thời phải dàn xếp các khoản bồi thường vì để xuất hiện những quảng cáo phân biệt chủng tộc.',\n",
       " 'Và nếu không phải vì vụ xả súng đẫm máu ở New Zealand làm 50 người thiệt mạng do một kẻ sùng bái chủ nghĩa da trắng thực hiện hồi tháng 3 vừa rồi, Facebook có lẽ sẽ vẫn chẳng có động thái quyết liệt nào để ngăn chặn nạn phân biệt chủng tộc.',\n",
       " 'Cần phải nói thêm, trong vụ xả súng ở New Zealand, kẻ thủ ác đã sử dụng Facebook để livestream và sử dụng mạng xã hội này như một công cụ để tuyên truyền sự hận thù. Đáng buồn là clip xả súng được lan truyền với tốc độ chóng mặt và tồn tại nhiều ngày sau đó mặc cho chính sách cấm các hình ảnh bạo lực và phát ngôn thù hận xuất hiện trên Facebook.',\n",
       " 'Cứ sai rồi xin lỗi',\n",
       " 'Năm 2018, một liên minh bao gồm 78 nhóm hoạt động vì quyền xã hội, các công ty đầu tư có tầm ảnh hưởng, các nhà đầu tư, và tổ chức Open MIC của tôi bày tỏ lo ngại rằng Facebook đã không giữ vững trách nhiệm thực hiện đánh giá ảnh hưởng nhân quyền trong hoạt động kinh doanh được, theo quy ước của Liên Hợp Quốc. Vụ việc cổ súy thù địch đối với người Rohingya ở Myanmar là ví dụ điển hình.',\n",
       " 'Báo cáo mới đây về nhân quyền của Liên Hợp Quốc nhấn mạnh: “Facebook là một công cụ đắc lực để lan truyền tư tưởng thù địch. Phản hồi từ phía Facebook về vấn đề này rất chậm và không hề hiệu quả. Đồng thời, Facebook cũng không thể cung cấp dữ liệu cụ thể theo quốc gia để đánh giá về sự lan truyền của ngôn từ thù địch, kích động trên nền tảng”.',\n",
       " 'Một điều tra viên của Liên Hợp Quốc miêu tả hành động của Facebook là “bị động” và “tối giản”, đồng thời cho rằng Facebook thay vì ngăn chặn mối nguy từ đầu thì chọn cách để sự việc xảy ra rồi mới xin lỗi.',\n",
       " 'Facebook cần một sự điều hành có tầm nhìn, độc lập, minh bạch và có trách nhiệm trong dài hạn. Công ty cần một lãnh đạo tối cao mới.',\n",
       " 'Trên mục Xã luận của báo ',\n",
       " 'New York Times',\n",
       " ', rất nhiều chuyên gia cho rằng việc dung túng cho nội dung xấu là chủ trương kinh doanh của Facebook. Doanh thu chủ yếu của nền tảng này đến từ quảng cáo và những nội dung nào hút càng nhiều lượt người tương tác hay chia sẻ thì sẽ càng được ưu tiên.',\n",
       " 'Tháng 4 vừa rồi, phát ngôn viên Ruchika Budhraja của Facebook chia sẻ với tạp chí Mother Jones rằng “hệ quả trong dài hạn của những nội dung thù địch là giảm lợi nhuận”. Trong khi đó, cuộc sống của chúng ta đang bị đe dọa.',\n",
       " 'Zuckerberg đều xin lỗi sau mỗi vụ bê bối. Không một lời xin lỗi nào đáng tin.',\n",
       " 'Trách nhiệm của Facebook vẫn còn đó. Nếu muốn tiếp tục là nền tảng mạng xã hội có ảnh hưởng đến hàng tỷ người trên thế giới, Facebook cần một sự điều hành có tầm nhìn, độc lập, minh bạch và có trách nhiệm trong dài hạn. Công ty cần một lãnh đạo tối cao mới.',\n",
       " 'Đáng buồn thay, chúng ta không thể trông chờ những điều này từ Mark Zuckerberg.',\n",
       " 'Michael Connor',\n",
       " 'Biên dịch: Nguyễn Bình Illustration: Nhân Lê']"
      ]
     },
     "execution_count": 75,
     "metadata": {},
     "output_type": "execute_result"
    }
   ],
   "source": [
    "data.body[1]"
   ]
  },
  {
   "cell_type": "code",
   "execution_count": 51,
   "id": "c801d147-2706-47f7-85ea-ddc7e9916a12",
   "metadata": {},
   "outputs": [
    {
     "data": {
      "text/plain": [
       "6808"
      ]
     },
     "execution_count": 51,
     "metadata": {},
     "output_type": "execute_result"
    }
   ],
   "source": [
    "len(body_postprocessing[2])"
   ]
  },
  {
   "cell_type": "code",
   "execution_count": 52,
   "id": "8de083d4-17b1-4390-9b15-856fe61c27db",
   "metadata": {
    "tags": []
   },
   "outputs": [],
   "source": [
    "X_pre_processing = []\n",
    "y = []\n",
    "l = 0\n",
    "for i in data.breadcrumbs:\n",
    "    if len(body_postprocessing[l]) > 40:\n",
    "        X_pre_processing.append(body_postprocessing[l])\n",
    "        y.append(i[0])\n",
    "    l += 1"
   ]
  },
  {
   "cell_type": "code",
   "execution_count": 53,
   "id": "f6ba96b7-0f4b-4bee-8e96-b33261a17ffd",
   "metadata": {},
   "outputs": [
    {
     "data": {
      "text/plain": [
       "24614"
      ]
     },
     "execution_count": 53,
     "metadata": {},
     "output_type": "execute_result"
    }
   ],
   "source": [
    "len(X_pre_processing)"
   ]
  },
  {
   "cell_type": "code",
   "execution_count": 54,
   "id": "73e983ac-3915-4d67-a861-f66c11fbd0e6",
   "metadata": {
    "collapsed": true,
    "jupyter": {
     "outputs_hidden": true
    },
    "tags": []
   },
   "outputs": [
    {
     "data": {
      "text/plain": [
       "'phó thủ_tướng trung quốc lưu hạc trao_đổi với tổng_thống donald_trump tại phòng bầu_dục ở nhà trắng hôm 4 - 4 . ông lưu hạc sẽ đến washington ngày 9 - 5 tới để tiếp_tục đàm_phán thương_mại với mỹ . ảnh : reuters hôm 7 - 5 , bộ thương_mại trung quốc thông_báo phó thủ_tướng lưu hạc sẽ dẫn_đầu đoàn đàm_phán trung quốc đến washington vào ngày 9 - 5 để tiếp_tục đàm_phán thương_mại với mỹ . chuyến thăm sẽ diễn ra trong 2 ngày , ngắn hơn so với kế_hoạch trước đó . chuyến thăm diễn ra giữa lúc những bất_ổn treo lơ lững trên bàn đàm_phán mỹ - trung sau khi tổng_thống mỹ donald trump hôm 5 - 5 thông_báo sẽ tăng thuế từ mức 10 % lên 25 % đối_với 200 tỉ đô_la hàng_hóa trung quốc bán sang mỹ mỗi năm vào ngày 10 - 5 để phản_ứng trước việc trung quốc rút lại hầu_hết cam_kết quan_trọng trong dự_thảo thỏa_thuận thương_mại của 2 nước trước đó . truyền_thông nhà_nước trung quốc nói rằng bắc kinh sẽ không nhượng_bộ trước lời đe_dọa tăng thuế của ông trump . trong một bài bình_luận đăng trên tài_khoản mạng xã_hội wechat hôm 7 - 5 , tờ nhân_dân nhật_báo nhấn_mạnh : “ khi mọi việc bất_lợi đối_với chúng_tôi , cho_dù các người đòi_hỏi như thế_nào , chúng_tôi sẽ không lùi_bước . thậm_chí , đừng nghĩ về điều ấy ” . đó là phản_ứng chính_thức đầu_tiên của trung quốc kể từ lúc tổng_thống trump thông_báo tăng thuế với hàng_hóa trung quốc . hôm 8 - 5 , bộ thương_mại trung quốc thông_báo : “ phía trung quốc sẽ lấy làm tiếc nếu các biện_pháp tăng thuế của mỹ sẽ được thực_hiện , trung quốc sẽ có các biện_pháp đáp trả cần_thiết ” . nhà phân_tích chính_trị ở thượng hải chen daoyin nhận_định rằng theo lập_trường của trung_quốc , nước này có ý_chí và sức_mạnh để duy_trì sự cứng_rắn đến phút cuối . ông nói : “ chủ_tịch tập và chính_phủ của ông có lập_trường rất cứng_rắn và không tỏ bất_kỳ dấu_hiệu nào lùi_bước khi đối_mặt với các thách_thức . \" giấc mơ trung hoa \" của ông tập nhằm xây_dựng trung quốc trở_thành một đất_nước hùng_mạnh hơn cũng hạn_chế khả_năng và sự linh_động từ đội_ngũ của ông trong việc xử_lý các vấn_đề bên ngoài ” . daoyin cũng cho rằng các trọng_tâm của bộ chính_trị trung_quốc , cơ_quan hoạch_định chính_sách quyền_lực nhất trung_quốc , cũng đã thay_đổi trong hai tháng qua với xu_hướng giảm chú_ý đến tình_hình kinh_tế đất_nước . daoyin nói : “ cuộc họp gần đây nhất của bộ chính_trị trung quốc không tập_trung vào vấn_đề bình_ổn kinh_tế như cuộc họp hồi tháng 2 - 2019 . các lãnh_đạo trung quốc có_thể cảm_thấy rằng tác_động từ các đòn thuế của mỹ không nghiêm_trọng như dự_báo ” . tổng_thống mỹ donald_trump tại cuộc gặp cử_tri ở tp . panama , bang florida ( mỹ ) hôm 8 - 5 . ảnh : ap một nguồn tin ngoại_giao trung quốc cho biết tại diễn_đàn vành_đai và con đường_được tổ_chức hồi cuối tháng 4 ở bắc kinh , trung_quốc đã cố_gắng tránh gây_sự chú_ý đến vấn_đề chiến_tranh thương_mại . nguồn tin này nói bắc kinh đang muốn giành thắng_lợi trong cuộc đàm_phán thương_mại với mỹ trước thềm lễ kỷ_niệm 70 năm ngày quốc_khánh trung quốc vào tháng 10 tới . hôm 4 - 5 , trung quốc cũng vừa kỷ_niệm 100 năm phong_trào ngũ tứ , một phong_trào biểu_tình chống chủ_nghĩa đế_quốc phương tây của giới sinh_viên , học_sinh , công_nhân , thị dân , trí_thức trung quốc nổ ra vào ngày 4 - 5 - 1919 . trong một bản phân_tích nhanh , simon evenett , giáo_sư thỉnh_giảng ở đại_học johns hopkins ( mỹ ) và gary hufbauer , học_giả cao_cấp từ viện kinh_tế quốc_tế peterson ở washington , giải thich rằng theo quan_điểm của bắc kinh , các tác_động tiêu_cực , trong trường_hợp mỹ - trung không đạt được thỏa_thuận thương_mại và mỹ tăng thuế với hàng_hóa trung_quốc , sẽ suy_yếu khi mà các kế_hoạch kích_thích kinh_tế của trung_quốc đã được thực_hiện . hai chuyên_gia này cũng cho rằng chủ_tịch tập không muốn mạo_hiểm đưa ra các nhượng_bộ quá lớn với mỹ trong một năm có nhiều lễ kỷ_niệm mang tính biểu_tượng ở trong nước . arthur kroeber , giám_đốc nghiên_cứu của công_ty nghiên_cứu kinh_tế , chính_trị , xã_hội trung quốc gavekal dragonomics ( hồng kông ) nhận_định : “ nền kinh_tế đang hồi_phục của trung quốc cho phép các nhà đàm_phán trung quốc mạnh_dạn cự_tuyệt các yêu_cầu của mỹ về việc rút lại các chính_sách trợ_cấp công_nghiệp và bắt_buộc các công_ty mỹ chuyển_giao công_nghệ để được làm_ăn_ở trung_quốc ” . trung_quốc đã nhất_trí mở_cửa thị_trường hơn nữa và tăng_cường bảo_vệ tài_sản sở_hữu trí_tuệ của các công_ty nước_ngoài cũng như cam_kết tăng mua hàng_hóa của mỹ . song hai bên vẫn chưa đạt được sự đồng thuận về một cơ_chế thực_thi thỏa_thuận thương_mại theo đề_xuất của mỹ , có_thể làm suy_yếu chủ_quyền của trung quốc nhưng bảo_đảm trung quốc tuân_thủ các cam_kết . đồng_thời , trung quốc tỏ rõ thái_độ cứng_rắn trước các yêu_cầu của mỹ đòi_hỏi trung quốc tiến_hành các thay_đổi cơ_bản trong chính_sách công_nghiệp và giảm trợ_cấp cho các công_ty nhà_nước . hãng tin reuters ngày 8 - 5 dẫn các nguồn tin chính_phủ mỹ và khu_vực tư_nhân cho biết vào tối 3 - 5 , bắc kinh gửi đến bức điện ngoại_giao đến washington , trong đó kèm theo nội_dung sửa_đổi dự_thảo thỏa_thuận thương_mại mỹ - trung . các nguồn tin nói rằng trung_quốc đã sửa_đổi gần như tất_cả 150 trang dự_thảo thỏa_thuận và rút lại nhiều cam_kết mà trung_quốc đã đưa ra trước đó , làm suy_yếu các yêu_cầu cốt_lõi của mỹ . ở mỗi chương trong bảy chương của dự_thảo thỏa_thuận , trung_quốc đã gạch bỏ các cam_kết thay_đổi luật để giải_quyết các khiếu_nại của mỹ liên_quan đến vấn_đề ăn_cắp tài_sản sở_hữu trí_tuệ và bí_mật thương_mại của mỹ , bắt_buộc các công_ty mỹ chuyển_giao công_nghệ , chính_sách cạnh_tranh , tiếp_cận các dịch_vụ tài_chính của trung_quốc và thao_túng tiền_tệ . đó chính là lý_do dẫn đến thông_báo của trump trên twitter nói rằng sẽ tăng thuế từ mức 10 % lên 25 % đối_với 200 tỉ đô_la hàng_hóa trung quốc . theo south china morning post lê_linh'"
      ]
     },
     "execution_count": 54,
     "metadata": {},
     "output_type": "execute_result"
    }
   ],
   "source": [
    "#group words that go together (groups of 2 or more)\n",
    "X_post_processing = []\n",
    "for i in X_pre_processing:\n",
    "    X_post_processing.append(ViTokenizer.tokenize(i))"
   ]
  },
  {
   "cell_type": "code",
   "execution_count": 96,
   "id": "952ce716-b069-43c6-9adf-7f11e34306f0",
   "metadata": {
    "tags": []
   },
   "outputs": [
    {
     "data": {
      "text/plain": [
       "'nhiều du_khách tại hội an ( quảng_nam ) bày_tỏ sự bất_ngờ khi phát_hiện xung_quanh mặt_trời có vòng ánh_sáng rực_rỡ . được biết , hiện_tượng hiếm thấy này kéo_dài nhiều tiếng đồng_hồ và kết_thúc lúc 13h30 . thời_tiết ở hội an khoảng 31 độ c , trời trong xanh và ít mây nên hiện_tượng này khá dễ quan_sát . nhiều du_khách đã tranh_thủ chụp ảnh , quay lại khoảnh_khắc đáng nhớ . hào_quang mặt_trời xuất_hiện ở hội an khiến du_khách bất_ngờ . ảnh : hương thảo . hương thảo ( hà_nội ) đã không giấu nổi sự bất_ngờ khi nhìn thấy hào_quang : \" mình cảm_thấy rất kỳ_diệu vì chưa bao_giờ được nhìn thấy cảnh_tượng này . người dân và du_khách ở đây cũng cảm_thấy rất lạ . họ còn chụp ảnh để ghi lại khoảnh_khắc ấy ngay lập_tức \" . trên mạng xã_hội , nhiều du_khách nước_ngoài cũng tỏ ra bất_ngờ khi chia_sẻ hình_ảnh về hiện_tượng này tại hội an . du_khách nước_ngoài ghi lại cảnh_tượng hiếm thấy ở hội an và chia_sẻ lên mạng xã_hội . ảnh chụp màn_hình . một du_khách nước_ngoài khác thể_hiện sự thích_thú trên trang cá_nhân của mình . ảnh chụp màn_hình . trước đó , hào_quang quanh mặt_trời cũng thường xuất_hiện nhiều lần ở tp huế và đất quảng . quầng hào_quang là những vòng ánh_sáng bao quanh mặt_trời hoặc mặt_trăng . chúng thường xuất_hiện khi có một lớp mây ti mỏng trên bầu_trời . sự kết_hợp giữa_hóa học , vật_lý và hình_học là nguyên_nhân chính tạo ra hiện_tượng này . theo dân_gian , quầng mặt_trời thường là dấu_hiệu dự_báo sắp có mưa vì chúng cần tinh_thể băng để hình_thành . tinh_thể băng thường xuất_hiện trong những đám mây ti ở độ cao lớn . những đám mây này có_thể kéo đến nhiều ngày_trước khi có khối khí nóng hoặc lạnh mang mưa đến . tuy_nhiên , không phải mọi đám mây ti đều đi kèm bão . một_số quầng hào_quang chỉ đơn_thuần là tín_hiệu cho thấy lượng nước ở thượng quyển gia_tăng . hoài thương'"
      ]
     },
     "execution_count": 96,
     "metadata": {},
     "output_type": "execute_result"
    }
   ],
   "source": [
    "X_post_processing[500]"
   ]
  },
  {
   "cell_type": "code",
   "execution_count": 97,
   "id": "b7e87454-c986-4a4c-b118-5731011d7a5a",
   "metadata": {},
   "outputs": [
    {
     "data": {
      "text/plain": [
       "'Khoa học'"
      ]
     },
     "execution_count": 97,
     "metadata": {},
     "output_type": "execute_result"
    }
   ],
   "source": [
    "y[500]"
   ]
  },
  {
   "cell_type": "code",
   "execution_count": 55,
   "id": "08508483-eec1-4e8b-8ca7-5edf0ef2a0be",
   "metadata": {
    "tags": []
   },
   "outputs": [],
   "source": [
    "X_train, X_test, y_train, y_test = train_test_split(X_post_processing, y, shuffle = True, test_size = 0.3, random_state = 42)"
   ]
  },
  {
   "cell_type": "code",
   "execution_count": 56,
   "id": "667e717f-f2ae-4720-881a-fe234a59b9f5",
   "metadata": {},
   "outputs": [
    {
     "data": {
      "text/plain": [
       "24614"
      ]
     },
     "execution_count": 56,
     "metadata": {},
     "output_type": "execute_result"
    }
   ],
   "source": [
    "len(X_post_processing)"
   ]
  },
  {
   "cell_type": "code",
   "execution_count": 57,
   "id": "f40d99b7-52f9-4e79-aa6b-f73dd39309c8",
   "metadata": {},
   "outputs": [],
   "source": [
    "vectorizer = TfidfVectorizer()\n",
    "vectorizer.fit(X_train)\n",
    "X_wordemb_train = vectorizer.transform(X_train)\n",
    "X_wordemb_test = vectorizer.transform(X_test)"
   ]
  },
  {
   "cell_type": "code",
   "execution_count": 59,
   "id": "9894ce76-d7fe-4ada-b80a-72e3f87e53e0",
   "metadata": {},
   "outputs": [
    {
     "data": {
      "text/plain": [
       "<17229x70425 sparse matrix of type '<class 'numpy.float64'>'\n",
       "\twith 3607902 stored elements in Compressed Sparse Row format>"
      ]
     },
     "execution_count": 59,
     "metadata": {},
     "output_type": "execute_result"
    }
   ],
   "source": [
    "X_wordemb_train"
   ]
  },
  {
   "cell_type": "code",
   "execution_count": 60,
   "id": "62d2ea06-f32f-4ec6-adb1-a96ee5efaaf7",
   "metadata": {},
   "outputs": [
    {
     "data": {
      "text/plain": [
       "<7385x70425 sparse matrix of type '<class 'numpy.float64'>'\n",
       "\twith 1529065 stored elements in Compressed Sparse Row format>"
      ]
     },
     "execution_count": 60,
     "metadata": {},
     "output_type": "execute_result"
    }
   ],
   "source": [
    "X_wordemb_test"
   ]
  },
  {
   "cell_type": "code",
   "execution_count": 62,
   "id": "e0e3d6c9-a6a2-4e44-aa8c-cdacb1610295",
   "metadata": {},
   "outputs": [
    {
     "name": "stderr",
     "output_type": "stream",
     "text": [
      "/Users/letuxuanhao/opt/miniconda3/envs/envi/lib/python3.6/site-packages/sklearn/linear_model/_logistic.py:765: ConvergenceWarning: lbfgs failed to converge (status=1):\n",
      "STOP: TOTAL NO. of ITERATIONS REACHED LIMIT.\n",
      "\n",
      "Increase the number of iterations (max_iter) or scale the data as shown in:\n",
      "    https://scikit-learn.org/stable/modules/preprocessing.html\n",
      "Please also refer to the documentation for alternative solver options:\n",
      "    https://scikit-learn.org/stable/modules/linear_model.html#logistic-regression\n",
      "  extra_warning_msg=_LOGISTIC_SOLVER_CONVERGENCE_MSG)\n"
     ]
    }
   ],
   "source": [
    "clf_linear = LogisticRegression(random_state=42).fit(X_wordemb_train, y_train)"
   ]
  },
  {
   "cell_type": "code",
   "execution_count": 63,
   "id": "e5b86147-2c32-4fef-8501-3a6669fc9d89",
   "metadata": {},
   "outputs": [
    {
     "data": {
      "text/plain": [
       "0.9260663507109005"
      ]
     },
     "execution_count": 63,
     "metadata": {},
     "output_type": "execute_result"
    }
   ],
   "source": [
    "clf_linear.score(X_wordemb_test, y_test)"
   ]
  },
  {
   "cell_type": "code",
   "execution_count": 108,
   "id": "a569cf46-3516-4cda-b609-566be2ececf3",
   "metadata": {},
   "outputs": [
    {
     "data": {
      "text/plain": [
       "['text_classification.joblib']"
      ]
     },
     "execution_count": 108,
     "metadata": {},
     "output_type": "execute_result"
    }
   ],
   "source": [
    "# import joblib\n",
    "from joblib import dump\n",
    "\n",
    "# dump the pipeline model\n",
    "dump(clf_linear, filename=\"text_classification.joblib\")"
   ]
  },
  {
   "cell_type": "code",
   "execution_count": 65,
   "id": "7c7edf34-6b7c-4c36-b3b0-341f5ca7d4d3",
   "metadata": {
    "collapsed": true,
    "jupyter": {
     "outputs_hidden": true
    },
    "tags": []
   },
   "outputs": [
    {
     "ename": "ValueError",
     "evalue": "Expected 2D array, got scalar array instead:\narray=Địa phương đang có dịch và thực hiện Chỉ thị số 15, 16 trước mắt, tổ chức dạy học trực tuyến; ưu tiên nguồn lực hỗ trợ học sinh khó khăn không có phương tiện học tập trực tuyến; đổi mới phương thức dạy học giúp trẻ em, học sinh vừa học vừa chơi, hứng thú học tập, chấp hành giãn cách, giảm căng thẳng trong thời gian giãn cách xã hội..\nReshape your data either using array.reshape(-1, 1) if your data has a single feature or array.reshape(1, -1) if it contains a single sample.",
     "output_type": "error",
     "traceback": [
      "\u001b[0;31m---------------------------------------------------------------------------\u001b[0m",
      "\u001b[0;31mValueError\u001b[0m                                Traceback (most recent call last)",
      "\u001b[0;32m<ipython-input-65-3de62dbdd1a3>\u001b[0m in \u001b[0;36m<module>\u001b[0;34m\u001b[0m\n\u001b[0;32m----> 1\u001b[0;31m \u001b[0mclf_linear\u001b[0m\u001b[0;34m.\u001b[0m\u001b[0mpredict\u001b[0m\u001b[0;34m(\u001b[0m\u001b[0;34m\"Địa phương đang có dịch và thực hiện Chỉ thị số 15, 16 trước mắt, tổ chức dạy học trực tuyến; ưu tiên nguồn lực hỗ trợ học sinh khó khăn không có phương tiện học tập trực tuyến; đổi mới phương thức dạy học giúp trẻ em, học sinh vừa học vừa chơi, hứng thú học tập, chấp hành giãn cách, giảm căng thẳng trong thời gian giãn cách xã hội.\"\u001b[0m\u001b[0;34m)\u001b[0m\u001b[0;34m\u001b[0m\u001b[0;34m\u001b[0m\u001b[0m\n\u001b[0m",
      "\u001b[0;32m~/opt/miniconda3/envs/envi/lib/python3.6/site-packages/sklearn/linear_model/_base.py\u001b[0m in \u001b[0;36mpredict\u001b[0;34m(self, X)\u001b[0m\n\u001b[1;32m    307\u001b[0m             \u001b[0mPredicted\u001b[0m \u001b[0;32mclass\u001b[0m \u001b[0mlabel\u001b[0m \u001b[0mper\u001b[0m \u001b[0msample\u001b[0m\u001b[0;34m.\u001b[0m\u001b[0;34m\u001b[0m\u001b[0;34m\u001b[0m\u001b[0m\n\u001b[1;32m    308\u001b[0m         \"\"\"\n\u001b[0;32m--> 309\u001b[0;31m         \u001b[0mscores\u001b[0m \u001b[0;34m=\u001b[0m \u001b[0mself\u001b[0m\u001b[0;34m.\u001b[0m\u001b[0mdecision_function\u001b[0m\u001b[0;34m(\u001b[0m\u001b[0mX\u001b[0m\u001b[0;34m)\u001b[0m\u001b[0;34m\u001b[0m\u001b[0;34m\u001b[0m\u001b[0m\n\u001b[0m\u001b[1;32m    310\u001b[0m         \u001b[0;32mif\u001b[0m \u001b[0mlen\u001b[0m\u001b[0;34m(\u001b[0m\u001b[0mscores\u001b[0m\u001b[0;34m.\u001b[0m\u001b[0mshape\u001b[0m\u001b[0;34m)\u001b[0m \u001b[0;34m==\u001b[0m \u001b[0;36m1\u001b[0m\u001b[0;34m:\u001b[0m\u001b[0;34m\u001b[0m\u001b[0;34m\u001b[0m\u001b[0m\n\u001b[1;32m    311\u001b[0m             \u001b[0mindices\u001b[0m \u001b[0;34m=\u001b[0m \u001b[0;34m(\u001b[0m\u001b[0mscores\u001b[0m \u001b[0;34m>\u001b[0m \u001b[0;36m0\u001b[0m\u001b[0;34m)\u001b[0m\u001b[0;34m.\u001b[0m\u001b[0mastype\u001b[0m\u001b[0;34m(\u001b[0m\u001b[0mint\u001b[0m\u001b[0;34m)\u001b[0m\u001b[0;34m\u001b[0m\u001b[0;34m\u001b[0m\u001b[0m\n",
      "\u001b[0;32m~/opt/miniconda3/envs/envi/lib/python3.6/site-packages/sklearn/linear_model/_base.py\u001b[0m in \u001b[0;36mdecision_function\u001b[0;34m(self, X)\u001b[0m\n\u001b[1;32m    282\u001b[0m         \u001b[0mcheck_is_fitted\u001b[0m\u001b[0;34m(\u001b[0m\u001b[0mself\u001b[0m\u001b[0;34m)\u001b[0m\u001b[0;34m\u001b[0m\u001b[0;34m\u001b[0m\u001b[0m\n\u001b[1;32m    283\u001b[0m \u001b[0;34m\u001b[0m\u001b[0m\n\u001b[0;32m--> 284\u001b[0;31m         \u001b[0mX\u001b[0m \u001b[0;34m=\u001b[0m \u001b[0mcheck_array\u001b[0m\u001b[0;34m(\u001b[0m\u001b[0mX\u001b[0m\u001b[0;34m,\u001b[0m \u001b[0maccept_sparse\u001b[0m\u001b[0;34m=\u001b[0m\u001b[0;34m'csr'\u001b[0m\u001b[0;34m)\u001b[0m\u001b[0;34m\u001b[0m\u001b[0;34m\u001b[0m\u001b[0m\n\u001b[0m\u001b[1;32m    285\u001b[0m \u001b[0;34m\u001b[0m\u001b[0m\n\u001b[1;32m    286\u001b[0m         \u001b[0mn_features\u001b[0m \u001b[0;34m=\u001b[0m \u001b[0mself\u001b[0m\u001b[0;34m.\u001b[0m\u001b[0mcoef_\u001b[0m\u001b[0;34m.\u001b[0m\u001b[0mshape\u001b[0m\u001b[0;34m[\u001b[0m\u001b[0;36m1\u001b[0m\u001b[0;34m]\u001b[0m\u001b[0;34m\u001b[0m\u001b[0;34m\u001b[0m\u001b[0m\n",
      "\u001b[0;32m~/opt/miniconda3/envs/envi/lib/python3.6/site-packages/sklearn/utils/validation.py\u001b[0m in \u001b[0;36minner_f\u001b[0;34m(*args, **kwargs)\u001b[0m\n\u001b[1;32m     61\u001b[0m             \u001b[0mextra_args\u001b[0m \u001b[0;34m=\u001b[0m \u001b[0mlen\u001b[0m\u001b[0;34m(\u001b[0m\u001b[0margs\u001b[0m\u001b[0;34m)\u001b[0m \u001b[0;34m-\u001b[0m \u001b[0mlen\u001b[0m\u001b[0;34m(\u001b[0m\u001b[0mall_args\u001b[0m\u001b[0;34m)\u001b[0m\u001b[0;34m\u001b[0m\u001b[0;34m\u001b[0m\u001b[0m\n\u001b[1;32m     62\u001b[0m             \u001b[0;32mif\u001b[0m \u001b[0mextra_args\u001b[0m \u001b[0;34m<=\u001b[0m \u001b[0;36m0\u001b[0m\u001b[0;34m:\u001b[0m\u001b[0;34m\u001b[0m\u001b[0;34m\u001b[0m\u001b[0m\n\u001b[0;32m---> 63\u001b[0;31m                 \u001b[0;32mreturn\u001b[0m \u001b[0mf\u001b[0m\u001b[0;34m(\u001b[0m\u001b[0;34m*\u001b[0m\u001b[0margs\u001b[0m\u001b[0;34m,\u001b[0m \u001b[0;34m**\u001b[0m\u001b[0mkwargs\u001b[0m\u001b[0;34m)\u001b[0m\u001b[0;34m\u001b[0m\u001b[0;34m\u001b[0m\u001b[0m\n\u001b[0m\u001b[1;32m     64\u001b[0m \u001b[0;34m\u001b[0m\u001b[0m\n\u001b[1;32m     65\u001b[0m             \u001b[0;31m# extra_args > 0\u001b[0m\u001b[0;34m\u001b[0m\u001b[0;34m\u001b[0m\u001b[0;34m\u001b[0m\u001b[0m\n",
      "\u001b[0;32m~/opt/miniconda3/envs/envi/lib/python3.6/site-packages/sklearn/utils/validation.py\u001b[0m in \u001b[0;36mcheck_array\u001b[0;34m(array, accept_sparse, accept_large_sparse, dtype, order, copy, force_all_finite, ensure_2d, allow_nd, ensure_min_samples, ensure_min_features, estimator)\u001b[0m\n\u001b[1;32m    689\u001b[0m                     \u001b[0;34m\"Reshape your data either using array.reshape(-1, 1) if \"\u001b[0m\u001b[0;34m\u001b[0m\u001b[0;34m\u001b[0m\u001b[0m\n\u001b[1;32m    690\u001b[0m                     \u001b[0;34m\"your data has a single feature or array.reshape(1, -1) \"\u001b[0m\u001b[0;34m\u001b[0m\u001b[0;34m\u001b[0m\u001b[0m\n\u001b[0;32m--> 691\u001b[0;31m                     \"if it contains a single sample.\".format(array))\n\u001b[0m\u001b[1;32m    692\u001b[0m             \u001b[0;31m# If input is 1D raise error\u001b[0m\u001b[0;34m\u001b[0m\u001b[0;34m\u001b[0m\u001b[0;34m\u001b[0m\u001b[0m\n\u001b[1;32m    693\u001b[0m             \u001b[0;32mif\u001b[0m \u001b[0marray\u001b[0m\u001b[0;34m.\u001b[0m\u001b[0mndim\u001b[0m \u001b[0;34m==\u001b[0m \u001b[0;36m1\u001b[0m\u001b[0;34m:\u001b[0m\u001b[0;34m\u001b[0m\u001b[0;34m\u001b[0m\u001b[0m\n",
      "\u001b[0;31mValueError\u001b[0m: Expected 2D array, got scalar array instead:\narray=Địa phương đang có dịch và thực hiện Chỉ thị số 15, 16 trước mắt, tổ chức dạy học trực tuyến; ưu tiên nguồn lực hỗ trợ học sinh khó khăn không có phương tiện học tập trực tuyến; đổi mới phương thức dạy học giúp trẻ em, học sinh vừa học vừa chơi, hứng thú học tập, chấp hành giãn cách, giảm căng thẳng trong thời gian giãn cách xã hội..\nReshape your data either using array.reshape(-1, 1) if your data has a single feature or array.reshape(1, -1) if it contains a single sample."
     ]
    }
   ],
   "source": [
    "clf_linear.predict(\"Địa phương đang có dịch và thực hiện Chỉ thị số 15, 16 trước mắt, tổ chức dạy học trực tuyến; ưu tiên nguồn lực hỗ trợ học sinh khó khăn không có phương tiện học tập trực tuyến; đổi mới phương thức dạy học giúp trẻ em, học sinh vừa học vừa chơi, hứng thú học tập, chấp hành giãn cách, giảm căng thẳng trong thời gian giãn cách xã hội.\")"
   ]
  },
  {
   "cell_type": "code",
   "execution_count": 103,
   "id": "712d79f9-4641-4ed0-a740-b678d9b1975a",
   "metadata": {},
   "outputs": [],
   "source": [
    "text = \"Trong ngày, Đà Nẵng có 47 ca mắc COVID-19, 5 ca mắc tại cộng đồng là các trường hợp có triệu chứng đến khám, xét nghiệm tại Trung tâm y tế quận Liên Chiểu và Bệnh viện Hoàn Mỹ Đà Nẵng (lấy mẫu đại diện hộ gia đình trước đó âm tính vào các ngày 24 và 30/8). Liên quan đến chuỗi lây nhiễm từ xét nghiệm hộ gia đình vẫn còn nguy cơ cao với 19 ca mắc mới được ghi nhận trong ngày, gồm 13 F1 đã cách ly và 6 trường hợp trong khu phong tỏa. Ban Chỉ đạo cũng cho biết trong ngày, Bệnh viện dã chiến tại ký túc xá phía tây Thành phố, Trung tâm y tế huyện Hòa Vang và Bệnh viện Phổi Đà Nẵng công bố khỏi bệnh và cho xuất viện 170 bệnh nhân mắc COVID-19. Đáng chú ý, tại Trung tâm y tế huyện Hoà Vang có 48 bệnh nhân xuất viện là con số lớn nhất từ trước đến nay, trong đó có đến 25 bệnh nhân là trẻ em, 6 cháu bé dưới 2 tuổi được chữa khỏi bệnh. Bí thư Thành ủy Đà Nẵng Nguyễn Văn Quảng cho rằng, đây là lần đầu tiên Thành phố thực hiện biện pháp giãn dân để phòng, chống dịch. Việc triển khai đến nay, các biện pháp triển khai cơ bản đáp ứng yêu cầu đề ra, thực hiện chặt chẽ. Sau khi hoàn thành di dời người dân tại các kiệt, hẻm có nhiều ca mắc COVID-19, lực lượng y tế sẽ khẩn trương phun khử khuẩn các kiệt, hẻm, khu vực nóng về COVID-19. Lực lượng công an tăng cường tuần tra, tránh để mất mát tài sản của người dân; giám sát việc chấp hành biện pháp phòng, chống dịch trong thời gian thực hiện giãn dân. Ông Hồ Thuyên, Chủ tịch UBND quận Thanh Khê cho biết, trong hai ngày 3/9 và 4/9, chính quyền phối hợp với lực lượng công an, y tế đã vận động, di dời khẩn cấp gần 500 người dân tại loạt điểm nóng lây lan dịch COVID-19 từ Kiệt K112 đến K292; Kiệt K158 đến K160 giao K112/37 Trần Cao Vân có số ca lây nhiễm cao (thuộc tổ 30, 31) và Kiệt K236, K258 và K264 thuộc 3 tổ (14, 15, 17) đều thuộc phường Tam Thuận, quận Thanh Khê. Đến nay trên địa bàn phường Tam Thuận có trên 230 F0. Người dân các điểm kiệt này được đưa về khu tập trung tại 2 trường tiểu học Bế Văn Đàn và Huỳnh Ngọc Huệ được quận Thanh Khê trưng dụng, bố trí đầy đủ điều kiện cần thiết, bố trí nơi ăn ở để người dân tạm thời ra khỏi khu dân cư chật hẹp, phòng tránh lây lan, lây nhiễm chéo dịch bệnh COVID-19. Đồng thời, để hỗ trợ người dân trong thời gian cách ly, UBND TP. Đà Nẵng cũng vừa có Quyết định về việc phê duyệt hỗ trợ các hộ dân và đối tượng bảo trợ xã hội tập trung trong thời gian Thành phố tiếp tục thực hiện các biện pháp cấp bách phòng, chống dịch, tổng kinh phí hơn 113 tỷ đồng.Các hộ dân trên địa bàn Đà Nẵng (kể cả tạm trú, sinh viên, lao động thuê trọ) chưa nhận được hỗ trợ trong gói hỗ trợ hơn 71 tỷ đồng trước đó, sẽ được hỗ trợ tiền mặt mức 500.000 đồng/hộ. Các đối tượng bảo trợ xã hội nuôi dưỡng tập trung, chi hỗ trợ bằng tiền mặt mức 250.000 đồng/người. Tổng cộng sẽ có 226.225 hộ dân được nhận hỗ trợ lần này. Trước đó, Đà Nẵng đã triển khai gói hỗ trợ hơn 71 tỷ đồng cho hơn 142.000 hộ dân.\""
   ]
  },
  {
   "cell_type": "code",
   "execution_count": 109,
   "id": "8cc3f453-5ad3-4113-915b-e825b7afe2c5",
   "metadata": {},
   "outputs": [],
   "source": [
    "def transform_text(text):\n",
    "    string = ViTokenizer.tokenize(text.lower().replace('\\n', ' '))\n",
    "    string_word_emb = vectorizer.transform([string])\n",
    "    return string_word_emb"
   ]
  },
  {
   "cell_type": "code",
   "execution_count": 110,
   "id": "71e38670-0c67-4570-bb04-dd5047b71027",
   "metadata": {},
   "outputs": [
    {
     "data": {
      "text/plain": [
       "array(['Pháp luật'], dtype='<U10')"
      ]
     },
     "execution_count": 110,
     "metadata": {},
     "output_type": "execute_result"
    }
   ],
   "source": [
    "clf_linear.predict(transform_text(text))"
   ]
  },
  {
   "cell_type": "code",
   "execution_count": null,
   "id": "67298f18-3840-4a3c-8265-e69f91ddd69b",
   "metadata": {},
   "outputs": [],
   "source": []
  }
 ],
 "metadata": {
  "kernelspec": {
   "display_name": "Python 3",
   "language": "python",
   "name": "python3"
  },
  "language_info": {
   "codemirror_mode": {
    "name": "ipython",
    "version": 3
   },
   "file_extension": ".py",
   "mimetype": "text/x-python",
   "name": "python",
   "nbconvert_exporter": "python",
   "pygments_lexer": "ipython3",
   "version": "3.6.13"
  }
 },
 "nbformat": 4,
 "nbformat_minor": 5
}
